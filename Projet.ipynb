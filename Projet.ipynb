{
 "cells": [
  {
   "cell_type": "markdown",
   "id": "b1ab1181",
   "metadata": {},
   "source": [
    "# <font color=darkblue>Collecte Des Données </font>"
   ]
  },
  {
   "cell_type": "markdown",
   "id": "7e65e731",
   "metadata": {},
   "source": [
    "<font  color=black> **- Importation des bibliotheques** </font>"
   ]
  },
  {
   "cell_type": "code",
   "execution_count": 2,
   "id": "683781f0",
   "metadata": {},
   "outputs": [],
   "source": [
    "#pip install tweepy-3.10.0.tar.gz\n",
    "import numpy as np\n",
    "import tweepy\n",
    "import pandas as pd\n",
    "import csv\n",
    "import re \n",
    "import string\n",
    "import preprocessor as p\n",
    "from textblob import TextBlob\n",
    "from vaderSentiment.vaderSentiment import SentimentIntensityAnalyzer\n",
    "from sklearn.svm import LinearSVC\n",
    "from sklearn.naive_bayes import BernoulliNB\n",
    "from sklearn.linear_model import LogisticRegression\n",
    "from sklearn.model_selection import train_test_split\n",
    "from sklearn.feature_extraction.text import TfidfVectorizer\n",
    "from sklearn.metrics import confusion_matrix, classification_report\n",
    "from sklearn.metrics import roc_curve, auc"
   ]
  },
  {
   "cell_type": "code",
   "execution_count": 3,
   "id": "9421078f",
   "metadata": {},
   "outputs": [],
   "source": [
    "consumer_key = \"cpjXAm9B2HiIUfhpLBQVkU5Nh\"\n",
    "consumer_secret = \"F0SfKjb9o3F2IEVNDl3s4ovzcSrMk9UnlluoQD0pIvSEa3Ke9l\"\n",
    "access_key = \"1230048817803821058-Pyh3dAp3HEyRvCFuY3tzG7fbYFbpc0\"\n",
    "access_secret = \"RDFd7dJqsib0y7hE9Fi6Doiq8j15PaIJe8jeMd6lb8j5S\""
   ]
  },
  {
   "cell_type": "code",
   "execution_count": 4,
   "id": "e7872869",
   "metadata": {},
   "outputs": [],
   "source": [
    "auth = tweepy.OAuthHandler(consumer_key, consumer_secret)\n",
    "auth.set_access_token(access_key, access_secret)\n",
    " \n",
    "api = tweepy.API(auth,wait_on_rate_limit=True)"
   ]
  },
  {
   "cell_type": "code",
   "execution_count": 5,
   "id": "c421fa6e",
   "metadata": {},
   "outputs": [],
   "source": [
    "csvFile = open('tweets_NFT.csv', 'a')\n",
    "csvWriter = csv.writer(csvFile)"
   ]
  },
  {
   "cell_type": "code",
   "execution_count": 6,
   "id": "5c6a6b2a",
   "metadata": {},
   "outputs": [],
   "source": [
    "search_words = \"NFT\"      # enter your words\n",
    "new_search = search_words + \" -filter:retweets\""
   ]
  },
  {
   "cell_type": "code",
   "execution_count": 7,
   "id": "28467d75",
   "metadata": {},
   "outputs": [],
   "source": [
    "#for tweet in tweepy.Cursor(api.search,q=new_search,count=100,\n",
    "#                           lang=\"en\",\n",
    "#                           since_id=0).items(20000):\n",
    "#    csvWriter.writerow([tweet.created_at, tweet.text.encode('utf-8'),tweet.user.screen_name.encode('utf-8'), tweet.user.location.encode('utf-8')])\n"
   ]
  },
  {
   "cell_type": "code",
   "execution_count": 8,
   "id": "c89e1b75",
   "metadata": {},
   "outputs": [
    {
     "data": {
      "text/html": [
       "<div>\n",
       "<style scoped>\n",
       "    .dataframe tbody tr th:only-of-type {\n",
       "        vertical-align: middle;\n",
       "    }\n",
       "\n",
       "    .dataframe tbody tr th {\n",
       "        vertical-align: top;\n",
       "    }\n",
       "\n",
       "    .dataframe thead th {\n",
       "        text-align: right;\n",
       "    }\n",
       "</style>\n",
       "<table border=\"1\" class=\"dataframe\">\n",
       "  <thead>\n",
       "    <tr style=\"text-align: right;\">\n",
       "      <th></th>\n",
       "      <th>0</th>\n",
       "      <th>1</th>\n",
       "      <th>2</th>\n",
       "      <th>3</th>\n",
       "    </tr>\n",
       "  </thead>\n",
       "  <tbody>\n",
       "    <tr>\n",
       "      <th>0</th>\n",
       "      <td>2022-05-07 15:37:17</td>\n",
       "      <td>b\"@Moonsie_NFT @FlipprTool @J777Crypto @darwin...</td>\n",
       "      <td>b'AhamadJim'</td>\n",
       "      <td>b''</td>\n",
       "    </tr>\n",
       "    <tr>\n",
       "      <th>1</th>\n",
       "      <td>2022-05-07 15:37:17</td>\n",
       "      <td>b'@TheArtistEvie Thank you so much \\xf0\\x9f\\x8...</td>\n",
       "      <td>b'ahmetaslan_nft'</td>\n",
       "      <td>b'Hatay, T\\xc3\\xbcrkiye'</td>\n",
       "    </tr>\n",
       "    <tr>\n",
       "      <th>2</th>\n",
       "      <td>2022-05-07 15:37:17</td>\n",
       "      <td>b'Coinbase\\xe2\\x80\\x99s NFT marketplace logs f...</td>\n",
       "      <td>b'kriztechnews'</td>\n",
       "      <td>b''</td>\n",
       "    </tr>\n",
       "    <tr>\n",
       "      <th>3</th>\n",
       "      <td>2022-05-07 15:37:16</td>\n",
       "      <td>b'@SoulZ_NFT @GiveawaysSoulz @JukiverseNFT lov...</td>\n",
       "      <td>b'RivaWinifred1'</td>\n",
       "      <td>b''</td>\n",
       "    </tr>\n",
       "    <tr>\n",
       "      <th>4</th>\n",
       "      <td>2022-05-07 15:37:16</td>\n",
       "      <td>b'@SolChiefNFT @ChiruCatz @findersol_NFT @sego...</td>\n",
       "      <td>b'wawankentuzz'</td>\n",
       "      <td>b'Indonesia'</td>\n",
       "    </tr>\n",
       "    <tr>\n",
       "      <th>...</th>\n",
       "      <td>...</td>\n",
       "      <td>...</td>\n",
       "      <td>...</td>\n",
       "      <td>...</td>\n",
       "    </tr>\n",
       "    <tr>\n",
       "      <th>11783</th>\n",
       "      <td>2022-05-07 14:43:47</td>\n",
       "      <td>b'@Kingofmidtown1 @ryan_talbot_ @bryanbrinkman...</td>\n",
       "      <td>b'Keulmaille_NFT'</td>\n",
       "      <td>b'Los Angeles, CA'</td>\n",
       "    </tr>\n",
       "    <tr>\n",
       "      <th>11784</th>\n",
       "      <td>2022-05-07 14:43:47</td>\n",
       "      <td>b\"@Hiraeth_NFT I was chosen. Now it's your tur...</td>\n",
       "      <td>b'JJJSS99'</td>\n",
       "      <td>b''</td>\n",
       "    </tr>\n",
       "    <tr>\n",
       "      <th>11785</th>\n",
       "      <td>2022-05-07 14:43:46</td>\n",
       "      <td>b'Hi  GM world.   \\nDrop your NFT only $xtz  p...</td>\n",
       "      <td>b'raksawinn'</td>\n",
       "      <td>b'\\xe0\\xb8\\x9b\\xe0\\xb8\\xa3\\xe0\\xb8\\xb0\\xe0\\xb9...</td>\n",
       "    </tr>\n",
       "    <tr>\n",
       "      <th>11786</th>\n",
       "      <td>2022-05-07 14:43:46</td>\n",
       "      <td>b'The first 5 items of the new collection have...</td>\n",
       "      <td>b'DarkbalanceShot'</td>\n",
       "      <td>b'Turkey / \\xc4\\xb0zmir'</td>\n",
       "    </tr>\n",
       "    <tr>\n",
       "      <th>11787</th>\n",
       "      <td>2022-05-07 14:43:45</td>\n",
       "      <td>b'@AAXExchange Hurry, only 3 days to go! Come ...</td>\n",
       "      <td>b'laketreasuree'</td>\n",
       "      <td>b''</td>\n",
       "    </tr>\n",
       "  </tbody>\n",
       "</table>\n",
       "<p>11788 rows × 4 columns</p>\n",
       "</div>"
      ],
      "text/plain": [
       "                         0                                                  1  \\\n",
       "0      2022-05-07 15:37:17  b\"@Moonsie_NFT @FlipprTool @J777Crypto @darwin...   \n",
       "1      2022-05-07 15:37:17  b'@TheArtistEvie Thank you so much \\xf0\\x9f\\x8...   \n",
       "2      2022-05-07 15:37:17  b'Coinbase\\xe2\\x80\\x99s NFT marketplace logs f...   \n",
       "3      2022-05-07 15:37:16  b'@SoulZ_NFT @GiveawaysSoulz @JukiverseNFT lov...   \n",
       "4      2022-05-07 15:37:16  b'@SolChiefNFT @ChiruCatz @findersol_NFT @sego...   \n",
       "...                    ...                                                ...   \n",
       "11783  2022-05-07 14:43:47  b'@Kingofmidtown1 @ryan_talbot_ @bryanbrinkman...   \n",
       "11784  2022-05-07 14:43:47  b\"@Hiraeth_NFT I was chosen. Now it's your tur...   \n",
       "11785  2022-05-07 14:43:46  b'Hi  GM world.   \\nDrop your NFT only $xtz  p...   \n",
       "11786  2022-05-07 14:43:46  b'The first 5 items of the new collection have...   \n",
       "11787  2022-05-07 14:43:45  b'@AAXExchange Hurry, only 3 days to go! Come ...   \n",
       "\n",
       "                        2                                                  3  \n",
       "0            b'AhamadJim'                                                b''  \n",
       "1       b'ahmetaslan_nft'                           b'Hatay, T\\xc3\\xbcrkiye'  \n",
       "2         b'kriztechnews'                                                b''  \n",
       "3        b'RivaWinifred1'                                                b''  \n",
       "4         b'wawankentuzz'                                       b'Indonesia'  \n",
       "...                   ...                                                ...  \n",
       "11783   b'Keulmaille_NFT'                                 b'Los Angeles, CA'  \n",
       "11784          b'JJJSS99'                                                b''  \n",
       "11785        b'raksawinn'  b'\\xe0\\xb8\\x9b\\xe0\\xb8\\xa3\\xe0\\xb8\\xb0\\xe0\\xb9...  \n",
       "11786  b'DarkbalanceShot'                           b'Turkey / \\xc4\\xb0zmir'  \n",
       "11787    b'laketreasuree'                                                b''  \n",
       "\n",
       "[11788 rows x 4 columns]"
      ]
     },
     "execution_count": 8,
     "metadata": {},
     "output_type": "execute_result"
    }
   ],
   "source": [
    "data= pd.read_csv(\"tweets_NFT.csv\", header=None)\n",
    "data"
   ]
  },
  {
   "cell_type": "code",
   "execution_count": 9,
   "id": "9b3937db",
   "metadata": {},
   "outputs": [
    {
     "data": {
      "text/html": [
       "<div>\n",
       "<style scoped>\n",
       "    .dataframe tbody tr th:only-of-type {\n",
       "        vertical-align: middle;\n",
       "    }\n",
       "\n",
       "    .dataframe tbody tr th {\n",
       "        vertical-align: top;\n",
       "    }\n",
       "\n",
       "    .dataframe thead th {\n",
       "        text-align: right;\n",
       "    }\n",
       "</style>\n",
       "<table border=\"1\" class=\"dataframe\">\n",
       "  <thead>\n",
       "    <tr style=\"text-align: right;\">\n",
       "      <th></th>\n",
       "      <th>0</th>\n",
       "      <th>1</th>\n",
       "      <th>2</th>\n",
       "      <th>3</th>\n",
       "    </tr>\n",
       "  </thead>\n",
       "  <tbody>\n",
       "    <tr>\n",
       "      <th>0</th>\n",
       "      <td>2022-05-07 15:37:17</td>\n",
       "      <td>b\"@Moonsie_NFT @FlipprTool @J777Crypto @darwin...</td>\n",
       "      <td>b'AhamadJim'</td>\n",
       "      <td>b''</td>\n",
       "    </tr>\n",
       "    <tr>\n",
       "      <th>1</th>\n",
       "      <td>2022-05-07 15:37:17</td>\n",
       "      <td>b'@TheArtistEvie Thank you so much \\xf0\\x9f\\x8...</td>\n",
       "      <td>b'ahmetaslan_nft'</td>\n",
       "      <td>b'Hatay, T\\xc3\\xbcrkiye'</td>\n",
       "    </tr>\n",
       "    <tr>\n",
       "      <th>2</th>\n",
       "      <td>2022-05-07 15:37:17</td>\n",
       "      <td>b'Coinbase\\xe2\\x80\\x99s NFT marketplace logs f...</td>\n",
       "      <td>b'kriztechnews'</td>\n",
       "      <td>b''</td>\n",
       "    </tr>\n",
       "    <tr>\n",
       "      <th>3</th>\n",
       "      <td>2022-05-07 15:37:16</td>\n",
       "      <td>b'@SoulZ_NFT @GiveawaysSoulz @JukiverseNFT lov...</td>\n",
       "      <td>b'RivaWinifred1'</td>\n",
       "      <td>b''</td>\n",
       "    </tr>\n",
       "    <tr>\n",
       "      <th>4</th>\n",
       "      <td>2022-05-07 15:37:16</td>\n",
       "      <td>b'@SolChiefNFT @ChiruCatz @findersol_NFT @sego...</td>\n",
       "      <td>b'wawankentuzz'</td>\n",
       "      <td>b'Indonesia'</td>\n",
       "    </tr>\n",
       "    <tr>\n",
       "      <th>5</th>\n",
       "      <td>2022-05-07 15:37:16</td>\n",
       "      <td>b'@YouByBFF Get your Free BFF PFP - read Bio @...</td>\n",
       "      <td>b'SandyTh95358612'</td>\n",
       "      <td>b''</td>\n",
       "    </tr>\n",
       "    <tr>\n",
       "      <th>6</th>\n",
       "      <td>2022-05-07 15:37:16</td>\n",
       "      <td>b'@sol_giveaways @BlockBet_ @yili @ChubbyJiras...</td>\n",
       "      <td>b'Happydayoff4'</td>\n",
       "      <td>b'Guangdong'</td>\n",
       "    </tr>\n",
       "    <tr>\n",
       "      <th>7</th>\n",
       "      <td>2022-05-07 15:37:16</td>\n",
       "      <td>b'@RealFlokiInu To mint @PandaGirlToken click ...</td>\n",
       "      <td>b'SFOLORUNSO'</td>\n",
       "      <td>b'Lagos, Nigeria'</td>\n",
       "    </tr>\n",
       "    <tr>\n",
       "      <th>8</th>\n",
       "      <td>2022-05-07 15:37:16</td>\n",
       "      <td>b\"@RampageReXNFT @Acceptable890 we've been in ...</td>\n",
       "      <td>b'InstantToastETH'</td>\n",
       "      <td>b''</td>\n",
       "    </tr>\n",
       "    <tr>\n",
       "      <th>9</th>\n",
       "      <td>2022-05-07 15:37:15</td>\n",
       "      <td>b'From what I see Bo Kucoin is doing all the w...</td>\n",
       "      <td>b'Crypto2954'</td>\n",
       "      <td>b''</td>\n",
       "    </tr>\n",
       "  </tbody>\n",
       "</table>\n",
       "</div>"
      ],
      "text/plain": [
       "                     0                                                  1  \\\n",
       "0  2022-05-07 15:37:17  b\"@Moonsie_NFT @FlipprTool @J777Crypto @darwin...   \n",
       "1  2022-05-07 15:37:17  b'@TheArtistEvie Thank you so much \\xf0\\x9f\\x8...   \n",
       "2  2022-05-07 15:37:17  b'Coinbase\\xe2\\x80\\x99s NFT marketplace logs f...   \n",
       "3  2022-05-07 15:37:16  b'@SoulZ_NFT @GiveawaysSoulz @JukiverseNFT lov...   \n",
       "4  2022-05-07 15:37:16  b'@SolChiefNFT @ChiruCatz @findersol_NFT @sego...   \n",
       "5  2022-05-07 15:37:16  b'@YouByBFF Get your Free BFF PFP - read Bio @...   \n",
       "6  2022-05-07 15:37:16  b'@sol_giveaways @BlockBet_ @yili @ChubbyJiras...   \n",
       "7  2022-05-07 15:37:16  b'@RealFlokiInu To mint @PandaGirlToken click ...   \n",
       "8  2022-05-07 15:37:16  b\"@RampageReXNFT @Acceptable890 we've been in ...   \n",
       "9  2022-05-07 15:37:15  b'From what I see Bo Kucoin is doing all the w...   \n",
       "\n",
       "                    2                         3  \n",
       "0        b'AhamadJim'                       b''  \n",
       "1   b'ahmetaslan_nft'  b'Hatay, T\\xc3\\xbcrkiye'  \n",
       "2     b'kriztechnews'                       b''  \n",
       "3    b'RivaWinifred1'                       b''  \n",
       "4     b'wawankentuzz'              b'Indonesia'  \n",
       "5  b'SandyTh95358612'                       b''  \n",
       "6     b'Happydayoff4'              b'Guangdong'  \n",
       "7       b'SFOLORUNSO'         b'Lagos, Nigeria'  \n",
       "8  b'InstantToastETH'                       b''  \n",
       "9       b'Crypto2954'                       b''  "
      ]
     },
     "execution_count": 9,
     "metadata": {},
     "output_type": "execute_result"
    }
   ],
   "source": [
    "data.head(10)"
   ]
  },
  {
   "cell_type": "code",
   "execution_count": 10,
   "id": "a7d024b0",
   "metadata": {},
   "outputs": [
    {
     "data": {
      "text/html": [
       "<div>\n",
       "<style scoped>\n",
       "    .dataframe tbody tr th:only-of-type {\n",
       "        vertical-align: middle;\n",
       "    }\n",
       "\n",
       "    .dataframe tbody tr th {\n",
       "        vertical-align: top;\n",
       "    }\n",
       "\n",
       "    .dataframe thead th {\n",
       "        text-align: right;\n",
       "    }\n",
       "</style>\n",
       "<table border=\"1\" class=\"dataframe\">\n",
       "  <thead>\n",
       "    <tr style=\"text-align: right;\">\n",
       "      <th></th>\n",
       "      <th>0</th>\n",
       "      <th>1</th>\n",
       "      <th>2</th>\n",
       "      <th>3</th>\n",
       "    </tr>\n",
       "  </thead>\n",
       "  <tbody>\n",
       "    <tr>\n",
       "      <th>11778</th>\n",
       "      <td>2022-05-07 14:43:48</td>\n",
       "      <td>b'@ape_jonnn Ayyy let\\xe2\\x80\\x99s do it. Nft ...</td>\n",
       "      <td>b'Steezed0uteth'</td>\n",
       "      <td>b'Playboy Mansion'</td>\n",
       "    </tr>\n",
       "    <tr>\n",
       "      <th>11779</th>\n",
       "      <td>2022-05-07 14:43:47</td>\n",
       "      <td>b'You early guys, come check this out\\nSomethi...</td>\n",
       "      <td>b'inyang_betty'</td>\n",
       "      <td>b''</td>\n",
       "    </tr>\n",
       "    <tr>\n",
       "      <th>11780</th>\n",
       "      <td>2022-05-07 14:43:47</td>\n",
       "      <td>b'@Moonsie_NFT @FlipprTool @J777Crypto @darwin...</td>\n",
       "      <td>b'BartonMaical'</td>\n",
       "      <td>b''</td>\n",
       "    </tr>\n",
       "    <tr>\n",
       "      <th>11781</th>\n",
       "      <td>2022-05-07 14:43:47</td>\n",
       "      <td>b'@Moonsie_NFT @FlipprTool @J777Crypto @darwin...</td>\n",
       "      <td>b'McphillipsgJ'</td>\n",
       "      <td>b''</td>\n",
       "    </tr>\n",
       "    <tr>\n",
       "      <th>11782</th>\n",
       "      <td>2022-05-07 14:43:47</td>\n",
       "      <td>b'@MoonStepApp A beautiful project that I beli...</td>\n",
       "      <td>b'ukyo2022'</td>\n",
       "      <td>b''</td>\n",
       "    </tr>\n",
       "    <tr>\n",
       "      <th>11783</th>\n",
       "      <td>2022-05-07 14:43:47</td>\n",
       "      <td>b'@Kingofmidtown1 @ryan_talbot_ @bryanbrinkman...</td>\n",
       "      <td>b'Keulmaille_NFT'</td>\n",
       "      <td>b'Los Angeles, CA'</td>\n",
       "    </tr>\n",
       "    <tr>\n",
       "      <th>11784</th>\n",
       "      <td>2022-05-07 14:43:47</td>\n",
       "      <td>b\"@Hiraeth_NFT I was chosen. Now it's your tur...</td>\n",
       "      <td>b'JJJSS99'</td>\n",
       "      <td>b''</td>\n",
       "    </tr>\n",
       "    <tr>\n",
       "      <th>11785</th>\n",
       "      <td>2022-05-07 14:43:46</td>\n",
       "      <td>b'Hi  GM world.   \\nDrop your NFT only $xtz  p...</td>\n",
       "      <td>b'raksawinn'</td>\n",
       "      <td>b'\\xe0\\xb8\\x9b\\xe0\\xb8\\xa3\\xe0\\xb8\\xb0\\xe0\\xb9...</td>\n",
       "    </tr>\n",
       "    <tr>\n",
       "      <th>11786</th>\n",
       "      <td>2022-05-07 14:43:46</td>\n",
       "      <td>b'The first 5 items of the new collection have...</td>\n",
       "      <td>b'DarkbalanceShot'</td>\n",
       "      <td>b'Turkey / \\xc4\\xb0zmir'</td>\n",
       "    </tr>\n",
       "    <tr>\n",
       "      <th>11787</th>\n",
       "      <td>2022-05-07 14:43:45</td>\n",
       "      <td>b'@AAXExchange Hurry, only 3 days to go! Come ...</td>\n",
       "      <td>b'laketreasuree'</td>\n",
       "      <td>b''</td>\n",
       "    </tr>\n",
       "  </tbody>\n",
       "</table>\n",
       "</div>"
      ],
      "text/plain": [
       "                         0                                                  1  \\\n",
       "11778  2022-05-07 14:43:48  b'@ape_jonnn Ayyy let\\xe2\\x80\\x99s do it. Nft ...   \n",
       "11779  2022-05-07 14:43:47  b'You early guys, come check this out\\nSomethi...   \n",
       "11780  2022-05-07 14:43:47  b'@Moonsie_NFT @FlipprTool @J777Crypto @darwin...   \n",
       "11781  2022-05-07 14:43:47  b'@Moonsie_NFT @FlipprTool @J777Crypto @darwin...   \n",
       "11782  2022-05-07 14:43:47  b'@MoonStepApp A beautiful project that I beli...   \n",
       "11783  2022-05-07 14:43:47  b'@Kingofmidtown1 @ryan_talbot_ @bryanbrinkman...   \n",
       "11784  2022-05-07 14:43:47  b\"@Hiraeth_NFT I was chosen. Now it's your tur...   \n",
       "11785  2022-05-07 14:43:46  b'Hi  GM world.   \\nDrop your NFT only $xtz  p...   \n",
       "11786  2022-05-07 14:43:46  b'The first 5 items of the new collection have...   \n",
       "11787  2022-05-07 14:43:45  b'@AAXExchange Hurry, only 3 days to go! Come ...   \n",
       "\n",
       "                        2                                                  3  \n",
       "11778    b'Steezed0uteth'                                 b'Playboy Mansion'  \n",
       "11779     b'inyang_betty'                                                b''  \n",
       "11780     b'BartonMaical'                                                b''  \n",
       "11781     b'McphillipsgJ'                                                b''  \n",
       "11782         b'ukyo2022'                                                b''  \n",
       "11783   b'Keulmaille_NFT'                                 b'Los Angeles, CA'  \n",
       "11784          b'JJJSS99'                                                b''  \n",
       "11785        b'raksawinn'  b'\\xe0\\xb8\\x9b\\xe0\\xb8\\xa3\\xe0\\xb8\\xb0\\xe0\\xb9...  \n",
       "11786  b'DarkbalanceShot'                           b'Turkey / \\xc4\\xb0zmir'  \n",
       "11787    b'laketreasuree'                                                b''  "
      ]
     },
     "execution_count": 10,
     "metadata": {},
     "output_type": "execute_result"
    }
   ],
   "source": [
    "data.tail(10)"
   ]
  },
  {
   "cell_type": "code",
   "execution_count": 11,
   "id": "e0450e88",
   "metadata": {},
   "outputs": [
    {
     "data": {
      "text/plain": [
       "False"
      ]
     },
     "execution_count": 11,
     "metadata": {},
     "output_type": "execute_result"
    }
   ],
   "source": [
    "data.isnull().values.any() "
   ]
  },
  {
   "cell_type": "code",
   "execution_count": 12,
   "id": "97707012",
   "metadata": {},
   "outputs": [
    {
     "data": {
      "text/plain": [
       "Int64Index([0, 1, 2, 3], dtype='int64')"
      ]
     },
     "execution_count": 12,
     "metadata": {},
     "output_type": "execute_result"
    }
   ],
   "source": [
    "data.columns"
   ]
  },
  {
   "cell_type": "code",
   "execution_count": 13,
   "id": "3fe4ea0f",
   "metadata": {},
   "outputs": [
    {
     "name": "stdout",
     "output_type": "stream",
     "text": [
      "<class 'pandas.core.frame.DataFrame'>\n",
      "RangeIndex: 11788 entries, 0 to 11787\n",
      "Data columns (total 4 columns):\n",
      " #   Column  Non-Null Count  Dtype \n",
      "---  ------  --------------  ----- \n",
      " 0   0       11788 non-null  object\n",
      " 1   1       11788 non-null  object\n",
      " 2   2       11788 non-null  object\n",
      " 3   3       11788 non-null  object\n",
      "dtypes: object(4)\n",
      "memory usage: 368.5+ KB\n"
     ]
    }
   ],
   "source": [
    "data.info()"
   ]
  },
  {
   "cell_type": "markdown",
   "id": "520ef58a",
   "metadata": {},
   "source": [
    "# <font color=darkblue>Nettoyage Des Données </font>"
   ]
  },
  {
   "cell_type": "code",
   "execution_count": 14,
   "id": "3f337cbf",
   "metadata": {},
   "outputs": [],
   "source": [
    "data.to_csv(\"tweets_NFT2.csv\", header=[\"Date & Time\", \"Content\", \"User\", \"Location\"], index=False)"
   ]
  },
  {
   "cell_type": "code",
   "execution_count": 15,
   "id": "866b78b0",
   "metadata": {},
   "outputs": [
    {
     "data": {
      "text/html": [
       "<div>\n",
       "<style scoped>\n",
       "    .dataframe tbody tr th:only-of-type {\n",
       "        vertical-align: middle;\n",
       "    }\n",
       "\n",
       "    .dataframe tbody tr th {\n",
       "        vertical-align: top;\n",
       "    }\n",
       "\n",
       "    .dataframe thead th {\n",
       "        text-align: right;\n",
       "    }\n",
       "</style>\n",
       "<table border=\"1\" class=\"dataframe\">\n",
       "  <thead>\n",
       "    <tr style=\"text-align: right;\">\n",
       "      <th></th>\n",
       "      <th>Date &amp; Time</th>\n",
       "      <th>Content</th>\n",
       "      <th>User</th>\n",
       "      <th>Location</th>\n",
       "    </tr>\n",
       "  </thead>\n",
       "  <tbody>\n",
       "    <tr>\n",
       "      <th>0</th>\n",
       "      <td>2022-05-07 15:37:17</td>\n",
       "      <td>b\"@Moonsie_NFT @FlipprTool @J777Crypto @darwin...</td>\n",
       "      <td>b'AhamadJim'</td>\n",
       "      <td>b''</td>\n",
       "    </tr>\n",
       "    <tr>\n",
       "      <th>1</th>\n",
       "      <td>2022-05-07 15:37:17</td>\n",
       "      <td>b'@TheArtistEvie Thank you so much \\xf0\\x9f\\x8...</td>\n",
       "      <td>b'ahmetaslan_nft'</td>\n",
       "      <td>b'Hatay, T\\xc3\\xbcrkiye'</td>\n",
       "    </tr>\n",
       "    <tr>\n",
       "      <th>2</th>\n",
       "      <td>2022-05-07 15:37:17</td>\n",
       "      <td>b'Coinbase\\xe2\\x80\\x99s NFT marketplace logs f...</td>\n",
       "      <td>b'kriztechnews'</td>\n",
       "      <td>b''</td>\n",
       "    </tr>\n",
       "    <tr>\n",
       "      <th>3</th>\n",
       "      <td>2022-05-07 15:37:16</td>\n",
       "      <td>b'@SoulZ_NFT @GiveawaysSoulz @JukiverseNFT lov...</td>\n",
       "      <td>b'RivaWinifred1'</td>\n",
       "      <td>b''</td>\n",
       "    </tr>\n",
       "    <tr>\n",
       "      <th>4</th>\n",
       "      <td>2022-05-07 15:37:16</td>\n",
       "      <td>b'@SolChiefNFT @ChiruCatz @findersol_NFT @sego...</td>\n",
       "      <td>b'wawankentuzz'</td>\n",
       "      <td>b'Indonesia'</td>\n",
       "    </tr>\n",
       "    <tr>\n",
       "      <th>...</th>\n",
       "      <td>...</td>\n",
       "      <td>...</td>\n",
       "      <td>...</td>\n",
       "      <td>...</td>\n",
       "    </tr>\n",
       "    <tr>\n",
       "      <th>11783</th>\n",
       "      <td>2022-05-07 14:43:47</td>\n",
       "      <td>b'@Kingofmidtown1 @ryan_talbot_ @bryanbrinkman...</td>\n",
       "      <td>b'Keulmaille_NFT'</td>\n",
       "      <td>b'Los Angeles, CA'</td>\n",
       "    </tr>\n",
       "    <tr>\n",
       "      <th>11784</th>\n",
       "      <td>2022-05-07 14:43:47</td>\n",
       "      <td>b\"@Hiraeth_NFT I was chosen. Now it's your tur...</td>\n",
       "      <td>b'JJJSS99'</td>\n",
       "      <td>b''</td>\n",
       "    </tr>\n",
       "    <tr>\n",
       "      <th>11785</th>\n",
       "      <td>2022-05-07 14:43:46</td>\n",
       "      <td>b'Hi  GM world.   \\nDrop your NFT only $xtz  p...</td>\n",
       "      <td>b'raksawinn'</td>\n",
       "      <td>b'\\xe0\\xb8\\x9b\\xe0\\xb8\\xa3\\xe0\\xb8\\xb0\\xe0\\xb9...</td>\n",
       "    </tr>\n",
       "    <tr>\n",
       "      <th>11786</th>\n",
       "      <td>2022-05-07 14:43:46</td>\n",
       "      <td>b'The first 5 items of the new collection have...</td>\n",
       "      <td>b'DarkbalanceShot'</td>\n",
       "      <td>b'Turkey / \\xc4\\xb0zmir'</td>\n",
       "    </tr>\n",
       "    <tr>\n",
       "      <th>11787</th>\n",
       "      <td>2022-05-07 14:43:45</td>\n",
       "      <td>b'@AAXExchange Hurry, only 3 days to go! Come ...</td>\n",
       "      <td>b'laketreasuree'</td>\n",
       "      <td>b''</td>\n",
       "    </tr>\n",
       "  </tbody>\n",
       "</table>\n",
       "<p>11788 rows × 4 columns</p>\n",
       "</div>"
      ],
      "text/plain": [
       "               Date & Time                                            Content  \\\n",
       "0      2022-05-07 15:37:17  b\"@Moonsie_NFT @FlipprTool @J777Crypto @darwin...   \n",
       "1      2022-05-07 15:37:17  b'@TheArtistEvie Thank you so much \\xf0\\x9f\\x8...   \n",
       "2      2022-05-07 15:37:17  b'Coinbase\\xe2\\x80\\x99s NFT marketplace logs f...   \n",
       "3      2022-05-07 15:37:16  b'@SoulZ_NFT @GiveawaysSoulz @JukiverseNFT lov...   \n",
       "4      2022-05-07 15:37:16  b'@SolChiefNFT @ChiruCatz @findersol_NFT @sego...   \n",
       "...                    ...                                                ...   \n",
       "11783  2022-05-07 14:43:47  b'@Kingofmidtown1 @ryan_talbot_ @bryanbrinkman...   \n",
       "11784  2022-05-07 14:43:47  b\"@Hiraeth_NFT I was chosen. Now it's your tur...   \n",
       "11785  2022-05-07 14:43:46  b'Hi  GM world.   \\nDrop your NFT only $xtz  p...   \n",
       "11786  2022-05-07 14:43:46  b'The first 5 items of the new collection have...   \n",
       "11787  2022-05-07 14:43:45  b'@AAXExchange Hurry, only 3 days to go! Come ...   \n",
       "\n",
       "                     User                                           Location  \n",
       "0            b'AhamadJim'                                                b''  \n",
       "1       b'ahmetaslan_nft'                           b'Hatay, T\\xc3\\xbcrkiye'  \n",
       "2         b'kriztechnews'                                                b''  \n",
       "3        b'RivaWinifred1'                                                b''  \n",
       "4         b'wawankentuzz'                                       b'Indonesia'  \n",
       "...                   ...                                                ...  \n",
       "11783   b'Keulmaille_NFT'                                 b'Los Angeles, CA'  \n",
       "11784          b'JJJSS99'                                                b''  \n",
       "11785        b'raksawinn'  b'\\xe0\\xb8\\x9b\\xe0\\xb8\\xa3\\xe0\\xb8\\xb0\\xe0\\xb9...  \n",
       "11786  b'DarkbalanceShot'                           b'Turkey / \\xc4\\xb0zmir'  \n",
       "11787    b'laketreasuree'                                                b''  \n",
       "\n",
       "[11788 rows x 4 columns]"
      ]
     },
     "execution_count": 15,
     "metadata": {},
     "output_type": "execute_result"
    }
   ],
   "source": [
    "data= pd.read_csv(\"tweets_NFT2.csv\")\n",
    "data"
   ]
  },
  {
   "cell_type": "code",
   "execution_count": 16,
   "id": "e0143fc8",
   "metadata": {},
   "outputs": [
    {
     "data": {
      "text/plain": [
       "[['2022-05-07 15:37:17',\n",
       "  'b\"@Moonsie_NFT @FlipprTool @J777Crypto @darwin_nft Don\\'t miss this project! ! ! @nime_sak @kraigself519 @OpliRdew @jeskemarcos987 @dk_dkbk .\"',\n",
       "  \"b'AhamadJim'\",\n",
       "  \"b''\"]]"
      ]
     },
     "execution_count": 16,
     "metadata": {},
     "output_type": "execute_result"
    }
   ],
   "source": [
    "data.head(1).values.tolist()"
   ]
  },
  {
   "cell_type": "code",
   "execution_count": 17,
   "id": "f29b7e2b",
   "metadata": {},
   "outputs": [],
   "source": [
    "new_location=data[\"Location\"].str[1:]\n",
    "new_content=data[\"Content\"].str[1:]\n",
    "new_user=data[\"User\"].str[1:]"
   ]
  },
  {
   "cell_type": "code",
   "execution_count": 18,
   "id": "a0c509d2",
   "metadata": {},
   "outputs": [],
   "source": [
    "data[\"Location\"]=new_location\n",
    "data[\"Content\"]=new_content\n",
    "data[\"User\"]=new_user"
   ]
  },
  {
   "cell_type": "code",
   "execution_count": 19,
   "id": "fad2959b",
   "metadata": {},
   "outputs": [
    {
     "data": {
      "text/html": [
       "<div>\n",
       "<style scoped>\n",
       "    .dataframe tbody tr th:only-of-type {\n",
       "        vertical-align: middle;\n",
       "    }\n",
       "\n",
       "    .dataframe tbody tr th {\n",
       "        vertical-align: top;\n",
       "    }\n",
       "\n",
       "    .dataframe thead th {\n",
       "        text-align: right;\n",
       "    }\n",
       "</style>\n",
       "<table border=\"1\" class=\"dataframe\">\n",
       "  <thead>\n",
       "    <tr style=\"text-align: right;\">\n",
       "      <th></th>\n",
       "      <th>Date &amp; Time</th>\n",
       "      <th>Content</th>\n",
       "      <th>User</th>\n",
       "      <th>Location</th>\n",
       "    </tr>\n",
       "  </thead>\n",
       "  <tbody>\n",
       "    <tr>\n",
       "      <th>0</th>\n",
       "      <td>2022-05-07 15:37:17</td>\n",
       "      <td>\"@Moonsie_NFT @FlipprTool @J777Crypto @darwin_...</td>\n",
       "      <td>'AhamadJim'</td>\n",
       "      <td>''</td>\n",
       "    </tr>\n",
       "    <tr>\n",
       "      <th>1</th>\n",
       "      <td>2022-05-07 15:37:17</td>\n",
       "      <td>'@TheArtistEvie Thank you so much \\xf0\\x9f\\x8d...</td>\n",
       "      <td>'ahmetaslan_nft'</td>\n",
       "      <td>'Hatay, T\\xc3\\xbcrkiye'</td>\n",
       "    </tr>\n",
       "    <tr>\n",
       "      <th>2</th>\n",
       "      <td>2022-05-07 15:37:17</td>\n",
       "      <td>'Coinbase\\xe2\\x80\\x99s NFT marketplace logs fe...</td>\n",
       "      <td>'kriztechnews'</td>\n",
       "      <td>''</td>\n",
       "    </tr>\n",
       "    <tr>\n",
       "      <th>3</th>\n",
       "      <td>2022-05-07 15:37:16</td>\n",
       "      <td>'@SoulZ_NFT @GiveawaysSoulz @JukiverseNFT love...</td>\n",
       "      <td>'RivaWinifred1'</td>\n",
       "      <td>''</td>\n",
       "    </tr>\n",
       "    <tr>\n",
       "      <th>4</th>\n",
       "      <td>2022-05-07 15:37:16</td>\n",
       "      <td>'@SolChiefNFT @ChiruCatz @findersol_NFT @segon...</td>\n",
       "      <td>'wawankentuzz'</td>\n",
       "      <td>'Indonesia'</td>\n",
       "    </tr>\n",
       "    <tr>\n",
       "      <th>...</th>\n",
       "      <td>...</td>\n",
       "      <td>...</td>\n",
       "      <td>...</td>\n",
       "      <td>...</td>\n",
       "    </tr>\n",
       "    <tr>\n",
       "      <th>11783</th>\n",
       "      <td>2022-05-07 14:43:47</td>\n",
       "      <td>'@Kingofmidtown1 @ryan_talbot_ @bryanbrinkman ...</td>\n",
       "      <td>'Keulmaille_NFT'</td>\n",
       "      <td>'Los Angeles, CA'</td>\n",
       "    </tr>\n",
       "    <tr>\n",
       "      <th>11784</th>\n",
       "      <td>2022-05-07 14:43:47</td>\n",
       "      <td>\"@Hiraeth_NFT I was chosen. Now it's your turn...</td>\n",
       "      <td>'JJJSS99'</td>\n",
       "      <td>''</td>\n",
       "    </tr>\n",
       "    <tr>\n",
       "      <th>11785</th>\n",
       "      <td>2022-05-07 14:43:46</td>\n",
       "      <td>'Hi  GM world.   \\nDrop your NFT only $xtz  pl...</td>\n",
       "      <td>'raksawinn'</td>\n",
       "      <td>'\\xe0\\xb8\\x9b\\xe0\\xb8\\xa3\\xe0\\xb8\\xb0\\xe0\\xb9\\...</td>\n",
       "    </tr>\n",
       "    <tr>\n",
       "      <th>11786</th>\n",
       "      <td>2022-05-07 14:43:46</td>\n",
       "      <td>'The first 5 items of the new collection have ...</td>\n",
       "      <td>'DarkbalanceShot'</td>\n",
       "      <td>'Turkey / \\xc4\\xb0zmir'</td>\n",
       "    </tr>\n",
       "    <tr>\n",
       "      <th>11787</th>\n",
       "      <td>2022-05-07 14:43:45</td>\n",
       "      <td>'@AAXExchange Hurry, only 3 days to go! Come v...</td>\n",
       "      <td>'laketreasuree'</td>\n",
       "      <td>''</td>\n",
       "    </tr>\n",
       "  </tbody>\n",
       "</table>\n",
       "<p>11788 rows × 4 columns</p>\n",
       "</div>"
      ],
      "text/plain": [
       "               Date & Time                                            Content  \\\n",
       "0      2022-05-07 15:37:17  \"@Moonsie_NFT @FlipprTool @J777Crypto @darwin_...   \n",
       "1      2022-05-07 15:37:17  '@TheArtistEvie Thank you so much \\xf0\\x9f\\x8d...   \n",
       "2      2022-05-07 15:37:17  'Coinbase\\xe2\\x80\\x99s NFT marketplace logs fe...   \n",
       "3      2022-05-07 15:37:16  '@SoulZ_NFT @GiveawaysSoulz @JukiverseNFT love...   \n",
       "4      2022-05-07 15:37:16  '@SolChiefNFT @ChiruCatz @findersol_NFT @segon...   \n",
       "...                    ...                                                ...   \n",
       "11783  2022-05-07 14:43:47  '@Kingofmidtown1 @ryan_talbot_ @bryanbrinkman ...   \n",
       "11784  2022-05-07 14:43:47  \"@Hiraeth_NFT I was chosen. Now it's your turn...   \n",
       "11785  2022-05-07 14:43:46  'Hi  GM world.   \\nDrop your NFT only $xtz  pl...   \n",
       "11786  2022-05-07 14:43:46  'The first 5 items of the new collection have ...   \n",
       "11787  2022-05-07 14:43:45  '@AAXExchange Hurry, only 3 days to go! Come v...   \n",
       "\n",
       "                    User                                           Location  \n",
       "0            'AhamadJim'                                                 ''  \n",
       "1       'ahmetaslan_nft'                            'Hatay, T\\xc3\\xbcrkiye'  \n",
       "2         'kriztechnews'                                                 ''  \n",
       "3        'RivaWinifred1'                                                 ''  \n",
       "4         'wawankentuzz'                                        'Indonesia'  \n",
       "...                  ...                                                ...  \n",
       "11783   'Keulmaille_NFT'                                  'Los Angeles, CA'  \n",
       "11784          'JJJSS99'                                                 ''  \n",
       "11785        'raksawinn'  '\\xe0\\xb8\\x9b\\xe0\\xb8\\xa3\\xe0\\xb8\\xb0\\xe0\\xb9\\...  \n",
       "11786  'DarkbalanceShot'                            'Turkey / \\xc4\\xb0zmir'  \n",
       "11787    'laketreasuree'                                                 ''  \n",
       "\n",
       "[11788 rows x 4 columns]"
      ]
     },
     "execution_count": 19,
     "metadata": {},
     "output_type": "execute_result"
    }
   ],
   "source": [
    "data"
   ]
  },
  {
   "cell_type": "code",
   "execution_count": 20,
   "id": "1675024f",
   "metadata": {},
   "outputs": [
    {
     "data": {
      "text/plain": [
       "False"
      ]
     },
     "execution_count": 20,
     "metadata": {},
     "output_type": "execute_result"
    }
   ],
   "source": [
    "data['Location'].isnull().values.any()"
   ]
  },
  {
   "cell_type": "code",
   "execution_count": 21,
   "id": "fd922f99",
   "metadata": {},
   "outputs": [
    {
     "data": {
      "text/plain": [
       "0                         ''\n",
       "1    'Hatay, T\\xc3\\xbcrkiye'\n",
       "2                         ''\n",
       "3                         ''\n",
       "4                'Indonesia'\n",
       "5                         ''\n",
       "6                'Guangdong'\n",
       "7           'Lagos, Nigeria'\n",
       "8                         ''\n",
       "9                         ''\n",
       "Name: Location, dtype: object"
      ]
     },
     "execution_count": 21,
     "metadata": {},
     "output_type": "execute_result"
    }
   ],
   "source": [
    "data['Location'].head(10)"
   ]
  },
  {
   "cell_type": "code",
   "execution_count": 22,
   "id": "286106e7",
   "metadata": {},
   "outputs": [],
   "source": [
    "new_location=data[\"Location\"].str[:-1]\n",
    "data[\"Location\"]=new_location\n",
    "new_location=data[\"Location\"].str[1:]\n",
    "data[\"Location\"]=new_location"
   ]
  },
  {
   "cell_type": "code",
   "execution_count": 23,
   "id": "c1b25502",
   "metadata": {},
   "outputs": [],
   "source": [
    "new_user=data[\"User\"].str[:-1]\n",
    "data[\"User\"]=new_user\n",
    "new_user=data[\"User\"].str[1:]\n",
    "data[\"User\"]=new_user"
   ]
  },
  {
   "cell_type": "code",
   "execution_count": 24,
   "id": "3751ce4b",
   "metadata": {},
   "outputs": [],
   "source": [
    "new_content=data[\"Content\"].str[:-1]\n",
    "data[\"Content\"]=new_content\n",
    "new_content=data[\"Content\"].str[1:]\n",
    "data[\"Content\"]=new_content"
   ]
  },
  {
   "cell_type": "code",
   "execution_count": 25,
   "id": "aec3a14d",
   "metadata": {},
   "outputs": [
    {
     "data": {
      "text/html": [
       "<div>\n",
       "<style scoped>\n",
       "    .dataframe tbody tr th:only-of-type {\n",
       "        vertical-align: middle;\n",
       "    }\n",
       "\n",
       "    .dataframe tbody tr th {\n",
       "        vertical-align: top;\n",
       "    }\n",
       "\n",
       "    .dataframe thead th {\n",
       "        text-align: right;\n",
       "    }\n",
       "</style>\n",
       "<table border=\"1\" class=\"dataframe\">\n",
       "  <thead>\n",
       "    <tr style=\"text-align: right;\">\n",
       "      <th></th>\n",
       "      <th>Date &amp; Time</th>\n",
       "      <th>Content</th>\n",
       "      <th>User</th>\n",
       "      <th>Location</th>\n",
       "    </tr>\n",
       "  </thead>\n",
       "  <tbody>\n",
       "    <tr>\n",
       "      <th>0</th>\n",
       "      <td>2022-05-07 15:37:17</td>\n",
       "      <td>@Moonsie_NFT @FlipprTool @J777Crypto @darwin_n...</td>\n",
       "      <td>AhamadJim</td>\n",
       "      <td></td>\n",
       "    </tr>\n",
       "    <tr>\n",
       "      <th>1</th>\n",
       "      <td>2022-05-07 15:37:17</td>\n",
       "      <td>@TheArtistEvie Thank you so much \\xf0\\x9f\\x8d\\x80</td>\n",
       "      <td>ahmetaslan_nft</td>\n",
       "      <td>Hatay, T\\xc3\\xbcrkiye</td>\n",
       "    </tr>\n",
       "    <tr>\n",
       "      <th>2</th>\n",
       "      <td>2022-05-07 15:37:17</td>\n",
       "      <td>Coinbase\\xe2\\x80\\x99s NFT marketplace logs few...</td>\n",
       "      <td>kriztechnews</td>\n",
       "      <td></td>\n",
       "    </tr>\n",
       "    <tr>\n",
       "      <th>3</th>\n",
       "      <td>2022-05-07 15:37:16</td>\n",
       "      <td>@SoulZ_NFT @GiveawaysSoulz @JukiverseNFT love ...</td>\n",
       "      <td>RivaWinifred1</td>\n",
       "      <td></td>\n",
       "    </tr>\n",
       "    <tr>\n",
       "      <th>4</th>\n",
       "      <td>2022-05-07 15:37:16</td>\n",
       "      <td>@SolChiefNFT @ChiruCatz @findersol_NFT @segono...</td>\n",
       "      <td>wawankentuzz</td>\n",
       "      <td>Indonesia</td>\n",
       "    </tr>\n",
       "    <tr>\n",
       "      <th>...</th>\n",
       "      <td>...</td>\n",
       "      <td>...</td>\n",
       "      <td>...</td>\n",
       "      <td>...</td>\n",
       "    </tr>\n",
       "    <tr>\n",
       "      <th>11783</th>\n",
       "      <td>2022-05-07 14:43:47</td>\n",
       "      <td>@Kingofmidtown1 @ryan_talbot_ @bryanbrinkman @...</td>\n",
       "      <td>Keulmaille_NFT</td>\n",
       "      <td>Los Angeles, CA</td>\n",
       "    </tr>\n",
       "    <tr>\n",
       "      <th>11784</th>\n",
       "      <td>2022-05-07 14:43:47</td>\n",
       "      <td>@Hiraeth_NFT I was chosen. Now it's your turn ...</td>\n",
       "      <td>JJJSS99</td>\n",
       "      <td></td>\n",
       "    </tr>\n",
       "    <tr>\n",
       "      <th>11785</th>\n",
       "      <td>2022-05-07 14:43:46</td>\n",
       "      <td>Hi  GM world.   \\nDrop your NFT only $xtz  pls...</td>\n",
       "      <td>raksawinn</td>\n",
       "      <td>\\xe0\\xb8\\x9b\\xe0\\xb8\\xa3\\xe0\\xb8\\xb0\\xe0\\xb9\\x...</td>\n",
       "    </tr>\n",
       "    <tr>\n",
       "      <th>11786</th>\n",
       "      <td>2022-05-07 14:43:46</td>\n",
       "      <td>The first 5 items of the new collection have b...</td>\n",
       "      <td>DarkbalanceShot</td>\n",
       "      <td>Turkey / \\xc4\\xb0zmir</td>\n",
       "    </tr>\n",
       "    <tr>\n",
       "      <th>11787</th>\n",
       "      <td>2022-05-07 14:43:45</td>\n",
       "      <td>@AAXExchange Hurry, only 3 days to go! Come vi...</td>\n",
       "      <td>laketreasuree</td>\n",
       "      <td></td>\n",
       "    </tr>\n",
       "  </tbody>\n",
       "</table>\n",
       "<p>11788 rows × 4 columns</p>\n",
       "</div>"
      ],
      "text/plain": [
       "               Date & Time                                            Content  \\\n",
       "0      2022-05-07 15:37:17  @Moonsie_NFT @FlipprTool @J777Crypto @darwin_n...   \n",
       "1      2022-05-07 15:37:17  @TheArtistEvie Thank you so much \\xf0\\x9f\\x8d\\x80   \n",
       "2      2022-05-07 15:37:17  Coinbase\\xe2\\x80\\x99s NFT marketplace logs few...   \n",
       "3      2022-05-07 15:37:16  @SoulZ_NFT @GiveawaysSoulz @JukiverseNFT love ...   \n",
       "4      2022-05-07 15:37:16  @SolChiefNFT @ChiruCatz @findersol_NFT @segono...   \n",
       "...                    ...                                                ...   \n",
       "11783  2022-05-07 14:43:47  @Kingofmidtown1 @ryan_talbot_ @bryanbrinkman @...   \n",
       "11784  2022-05-07 14:43:47  @Hiraeth_NFT I was chosen. Now it's your turn ...   \n",
       "11785  2022-05-07 14:43:46  Hi  GM world.   \\nDrop your NFT only $xtz  pls...   \n",
       "11786  2022-05-07 14:43:46  The first 5 items of the new collection have b...   \n",
       "11787  2022-05-07 14:43:45  @AAXExchange Hurry, only 3 days to go! Come vi...   \n",
       "\n",
       "                  User                                           Location  \n",
       "0            AhamadJim                                                     \n",
       "1       ahmetaslan_nft                              Hatay, T\\xc3\\xbcrkiye  \n",
       "2         kriztechnews                                                     \n",
       "3        RivaWinifred1                                                     \n",
       "4         wawankentuzz                                          Indonesia  \n",
       "...                ...                                                ...  \n",
       "11783   Keulmaille_NFT                                    Los Angeles, CA  \n",
       "11784          JJJSS99                                                     \n",
       "11785        raksawinn  \\xe0\\xb8\\x9b\\xe0\\xb8\\xa3\\xe0\\xb8\\xb0\\xe0\\xb9\\x...  \n",
       "11786  DarkbalanceShot                              Turkey / \\xc4\\xb0zmir  \n",
       "11787    laketreasuree                                                     \n",
       "\n",
       "[11788 rows x 4 columns]"
      ]
     },
     "execution_count": 25,
     "metadata": {},
     "output_type": "execute_result"
    }
   ],
   "source": [
    "data"
   ]
  },
  {
   "cell_type": "code",
   "execution_count": 26,
   "id": "f7bbc6a3",
   "metadata": {},
   "outputs": [],
   "source": [
    "data = data.replace(r'^\\s*$', np.nan, regex=True)"
   ]
  },
  {
   "cell_type": "code",
   "execution_count": 27,
   "id": "c8149256",
   "metadata": {},
   "outputs": [
    {
     "data": {
      "text/html": [
       "<div>\n",
       "<style scoped>\n",
       "    .dataframe tbody tr th:only-of-type {\n",
       "        vertical-align: middle;\n",
       "    }\n",
       "\n",
       "    .dataframe tbody tr th {\n",
       "        vertical-align: top;\n",
       "    }\n",
       "\n",
       "    .dataframe thead th {\n",
       "        text-align: right;\n",
       "    }\n",
       "</style>\n",
       "<table border=\"1\" class=\"dataframe\">\n",
       "  <thead>\n",
       "    <tr style=\"text-align: right;\">\n",
       "      <th></th>\n",
       "      <th>Date &amp; Time</th>\n",
       "      <th>Content</th>\n",
       "      <th>User</th>\n",
       "      <th>Location</th>\n",
       "    </tr>\n",
       "  </thead>\n",
       "  <tbody>\n",
       "    <tr>\n",
       "      <th>0</th>\n",
       "      <td>2022-05-07 15:37:17</td>\n",
       "      <td>@Moonsie_NFT @FlipprTool @J777Crypto @darwin_n...</td>\n",
       "      <td>AhamadJim</td>\n",
       "      <td>NaN</td>\n",
       "    </tr>\n",
       "    <tr>\n",
       "      <th>1</th>\n",
       "      <td>2022-05-07 15:37:17</td>\n",
       "      <td>@TheArtistEvie Thank you so much \\xf0\\x9f\\x8d\\x80</td>\n",
       "      <td>ahmetaslan_nft</td>\n",
       "      <td>Hatay, T\\xc3\\xbcrkiye</td>\n",
       "    </tr>\n",
       "    <tr>\n",
       "      <th>2</th>\n",
       "      <td>2022-05-07 15:37:17</td>\n",
       "      <td>Coinbase\\xe2\\x80\\x99s NFT marketplace logs few...</td>\n",
       "      <td>kriztechnews</td>\n",
       "      <td>NaN</td>\n",
       "    </tr>\n",
       "    <tr>\n",
       "      <th>3</th>\n",
       "      <td>2022-05-07 15:37:16</td>\n",
       "      <td>@SoulZ_NFT @GiveawaysSoulz @JukiverseNFT love ...</td>\n",
       "      <td>RivaWinifred1</td>\n",
       "      <td>NaN</td>\n",
       "    </tr>\n",
       "    <tr>\n",
       "      <th>4</th>\n",
       "      <td>2022-05-07 15:37:16</td>\n",
       "      <td>@SolChiefNFT @ChiruCatz @findersol_NFT @segono...</td>\n",
       "      <td>wawankentuzz</td>\n",
       "      <td>Indonesia</td>\n",
       "    </tr>\n",
       "    <tr>\n",
       "      <th>...</th>\n",
       "      <td>...</td>\n",
       "      <td>...</td>\n",
       "      <td>...</td>\n",
       "      <td>...</td>\n",
       "    </tr>\n",
       "    <tr>\n",
       "      <th>11783</th>\n",
       "      <td>2022-05-07 14:43:47</td>\n",
       "      <td>@Kingofmidtown1 @ryan_talbot_ @bryanbrinkman @...</td>\n",
       "      <td>Keulmaille_NFT</td>\n",
       "      <td>Los Angeles, CA</td>\n",
       "    </tr>\n",
       "    <tr>\n",
       "      <th>11784</th>\n",
       "      <td>2022-05-07 14:43:47</td>\n",
       "      <td>@Hiraeth_NFT I was chosen. Now it's your turn ...</td>\n",
       "      <td>JJJSS99</td>\n",
       "      <td>NaN</td>\n",
       "    </tr>\n",
       "    <tr>\n",
       "      <th>11785</th>\n",
       "      <td>2022-05-07 14:43:46</td>\n",
       "      <td>Hi  GM world.   \\nDrop your NFT only $xtz  pls...</td>\n",
       "      <td>raksawinn</td>\n",
       "      <td>\\xe0\\xb8\\x9b\\xe0\\xb8\\xa3\\xe0\\xb8\\xb0\\xe0\\xb9\\x...</td>\n",
       "    </tr>\n",
       "    <tr>\n",
       "      <th>11786</th>\n",
       "      <td>2022-05-07 14:43:46</td>\n",
       "      <td>The first 5 items of the new collection have b...</td>\n",
       "      <td>DarkbalanceShot</td>\n",
       "      <td>Turkey / \\xc4\\xb0zmir</td>\n",
       "    </tr>\n",
       "    <tr>\n",
       "      <th>11787</th>\n",
       "      <td>2022-05-07 14:43:45</td>\n",
       "      <td>@AAXExchange Hurry, only 3 days to go! Come vi...</td>\n",
       "      <td>laketreasuree</td>\n",
       "      <td>NaN</td>\n",
       "    </tr>\n",
       "  </tbody>\n",
       "</table>\n",
       "<p>11788 rows × 4 columns</p>\n",
       "</div>"
      ],
      "text/plain": [
       "               Date & Time                                            Content  \\\n",
       "0      2022-05-07 15:37:17  @Moonsie_NFT @FlipprTool @J777Crypto @darwin_n...   \n",
       "1      2022-05-07 15:37:17  @TheArtistEvie Thank you so much \\xf0\\x9f\\x8d\\x80   \n",
       "2      2022-05-07 15:37:17  Coinbase\\xe2\\x80\\x99s NFT marketplace logs few...   \n",
       "3      2022-05-07 15:37:16  @SoulZ_NFT @GiveawaysSoulz @JukiverseNFT love ...   \n",
       "4      2022-05-07 15:37:16  @SolChiefNFT @ChiruCatz @findersol_NFT @segono...   \n",
       "...                    ...                                                ...   \n",
       "11783  2022-05-07 14:43:47  @Kingofmidtown1 @ryan_talbot_ @bryanbrinkman @...   \n",
       "11784  2022-05-07 14:43:47  @Hiraeth_NFT I was chosen. Now it's your turn ...   \n",
       "11785  2022-05-07 14:43:46  Hi  GM world.   \\nDrop your NFT only $xtz  pls...   \n",
       "11786  2022-05-07 14:43:46  The first 5 items of the new collection have b...   \n",
       "11787  2022-05-07 14:43:45  @AAXExchange Hurry, only 3 days to go! Come vi...   \n",
       "\n",
       "                  User                                           Location  \n",
       "0            AhamadJim                                                NaN  \n",
       "1       ahmetaslan_nft                              Hatay, T\\xc3\\xbcrkiye  \n",
       "2         kriztechnews                                                NaN  \n",
       "3        RivaWinifred1                                                NaN  \n",
       "4         wawankentuzz                                          Indonesia  \n",
       "...                ...                                                ...  \n",
       "11783   Keulmaille_NFT                                    Los Angeles, CA  \n",
       "11784          JJJSS99                                                NaN  \n",
       "11785        raksawinn  \\xe0\\xb8\\x9b\\xe0\\xb8\\xa3\\xe0\\xb8\\xb0\\xe0\\xb9\\x...  \n",
       "11786  DarkbalanceShot                              Turkey / \\xc4\\xb0zmir  \n",
       "11787    laketreasuree                                                NaN  \n",
       "\n",
       "[11788 rows x 4 columns]"
      ]
     },
     "execution_count": 27,
     "metadata": {},
     "output_type": "execute_result"
    }
   ],
   "source": [
    "data"
   ]
  },
  {
   "cell_type": "code",
   "execution_count": 28,
   "id": "61ccf190",
   "metadata": {},
   "outputs": [
    {
     "data": {
      "text/plain": [
       "True"
      ]
     },
     "execution_count": 28,
     "metadata": {},
     "output_type": "execute_result"
    }
   ],
   "source": [
    "data['Location'].isnull().values.any()"
   ]
  },
  {
   "cell_type": "code",
   "execution_count": 29,
   "id": "c2c401bc",
   "metadata": {},
   "outputs": [
    {
     "data": {
      "text/plain": [
       "6360"
      ]
     },
     "execution_count": 29,
     "metadata": {},
     "output_type": "execute_result"
    }
   ],
   "source": [
    "data['Location'].isnull().values.sum()"
   ]
  },
  {
   "cell_type": "code",
   "execution_count": 30,
   "id": "1b2e3356",
   "metadata": {},
   "outputs": [
    {
     "data": {
      "text/plain": [
       "6360"
      ]
     },
     "execution_count": 30,
     "metadata": {},
     "output_type": "execute_result"
    }
   ],
   "source": [
    "data.isnull().sum().sum()"
   ]
  },
  {
   "cell_type": "code",
   "execution_count": 31,
   "id": "c5b7d8ff",
   "metadata": {},
   "outputs": [],
   "source": [
    "data.fillna('Unknown', inplace=True)"
   ]
  },
  {
   "cell_type": "code",
   "execution_count": 32,
   "id": "3097bc18",
   "metadata": {},
   "outputs": [
    {
     "data": {
      "text/html": [
       "<div>\n",
       "<style scoped>\n",
       "    .dataframe tbody tr th:only-of-type {\n",
       "        vertical-align: middle;\n",
       "    }\n",
       "\n",
       "    .dataframe tbody tr th {\n",
       "        vertical-align: top;\n",
       "    }\n",
       "\n",
       "    .dataframe thead th {\n",
       "        text-align: right;\n",
       "    }\n",
       "</style>\n",
       "<table border=\"1\" class=\"dataframe\">\n",
       "  <thead>\n",
       "    <tr style=\"text-align: right;\">\n",
       "      <th></th>\n",
       "      <th>Date &amp; Time</th>\n",
       "      <th>Content</th>\n",
       "      <th>User</th>\n",
       "      <th>Location</th>\n",
       "    </tr>\n",
       "  </thead>\n",
       "  <tbody>\n",
       "    <tr>\n",
       "      <th>0</th>\n",
       "      <td>2022-05-07 15:37:17</td>\n",
       "      <td>@Moonsie_NFT @FlipprTool @J777Crypto @darwin_n...</td>\n",
       "      <td>AhamadJim</td>\n",
       "      <td>Unknown</td>\n",
       "    </tr>\n",
       "    <tr>\n",
       "      <th>1</th>\n",
       "      <td>2022-05-07 15:37:17</td>\n",
       "      <td>@TheArtistEvie Thank you so much \\xf0\\x9f\\x8d\\x80</td>\n",
       "      <td>ahmetaslan_nft</td>\n",
       "      <td>Hatay, T\\xc3\\xbcrkiye</td>\n",
       "    </tr>\n",
       "    <tr>\n",
       "      <th>2</th>\n",
       "      <td>2022-05-07 15:37:17</td>\n",
       "      <td>Coinbase\\xe2\\x80\\x99s NFT marketplace logs few...</td>\n",
       "      <td>kriztechnews</td>\n",
       "      <td>Unknown</td>\n",
       "    </tr>\n",
       "    <tr>\n",
       "      <th>3</th>\n",
       "      <td>2022-05-07 15:37:16</td>\n",
       "      <td>@SoulZ_NFT @GiveawaysSoulz @JukiverseNFT love ...</td>\n",
       "      <td>RivaWinifred1</td>\n",
       "      <td>Unknown</td>\n",
       "    </tr>\n",
       "    <tr>\n",
       "      <th>4</th>\n",
       "      <td>2022-05-07 15:37:16</td>\n",
       "      <td>@SolChiefNFT @ChiruCatz @findersol_NFT @segono...</td>\n",
       "      <td>wawankentuzz</td>\n",
       "      <td>Indonesia</td>\n",
       "    </tr>\n",
       "    <tr>\n",
       "      <th>...</th>\n",
       "      <td>...</td>\n",
       "      <td>...</td>\n",
       "      <td>...</td>\n",
       "      <td>...</td>\n",
       "    </tr>\n",
       "    <tr>\n",
       "      <th>11783</th>\n",
       "      <td>2022-05-07 14:43:47</td>\n",
       "      <td>@Kingofmidtown1 @ryan_talbot_ @bryanbrinkman @...</td>\n",
       "      <td>Keulmaille_NFT</td>\n",
       "      <td>Los Angeles, CA</td>\n",
       "    </tr>\n",
       "    <tr>\n",
       "      <th>11784</th>\n",
       "      <td>2022-05-07 14:43:47</td>\n",
       "      <td>@Hiraeth_NFT I was chosen. Now it's your turn ...</td>\n",
       "      <td>JJJSS99</td>\n",
       "      <td>Unknown</td>\n",
       "    </tr>\n",
       "    <tr>\n",
       "      <th>11785</th>\n",
       "      <td>2022-05-07 14:43:46</td>\n",
       "      <td>Hi  GM world.   \\nDrop your NFT only $xtz  pls...</td>\n",
       "      <td>raksawinn</td>\n",
       "      <td>\\xe0\\xb8\\x9b\\xe0\\xb8\\xa3\\xe0\\xb8\\xb0\\xe0\\xb9\\x...</td>\n",
       "    </tr>\n",
       "    <tr>\n",
       "      <th>11786</th>\n",
       "      <td>2022-05-07 14:43:46</td>\n",
       "      <td>The first 5 items of the new collection have b...</td>\n",
       "      <td>DarkbalanceShot</td>\n",
       "      <td>Turkey / \\xc4\\xb0zmir</td>\n",
       "    </tr>\n",
       "    <tr>\n",
       "      <th>11787</th>\n",
       "      <td>2022-05-07 14:43:45</td>\n",
       "      <td>@AAXExchange Hurry, only 3 days to go! Come vi...</td>\n",
       "      <td>laketreasuree</td>\n",
       "      <td>Unknown</td>\n",
       "    </tr>\n",
       "  </tbody>\n",
       "</table>\n",
       "<p>11788 rows × 4 columns</p>\n",
       "</div>"
      ],
      "text/plain": [
       "               Date & Time                                            Content  \\\n",
       "0      2022-05-07 15:37:17  @Moonsie_NFT @FlipprTool @J777Crypto @darwin_n...   \n",
       "1      2022-05-07 15:37:17  @TheArtistEvie Thank you so much \\xf0\\x9f\\x8d\\x80   \n",
       "2      2022-05-07 15:37:17  Coinbase\\xe2\\x80\\x99s NFT marketplace logs few...   \n",
       "3      2022-05-07 15:37:16  @SoulZ_NFT @GiveawaysSoulz @JukiverseNFT love ...   \n",
       "4      2022-05-07 15:37:16  @SolChiefNFT @ChiruCatz @findersol_NFT @segono...   \n",
       "...                    ...                                                ...   \n",
       "11783  2022-05-07 14:43:47  @Kingofmidtown1 @ryan_talbot_ @bryanbrinkman @...   \n",
       "11784  2022-05-07 14:43:47  @Hiraeth_NFT I was chosen. Now it's your turn ...   \n",
       "11785  2022-05-07 14:43:46  Hi  GM world.   \\nDrop your NFT only $xtz  pls...   \n",
       "11786  2022-05-07 14:43:46  The first 5 items of the new collection have b...   \n",
       "11787  2022-05-07 14:43:45  @AAXExchange Hurry, only 3 days to go! Come vi...   \n",
       "\n",
       "                  User                                           Location  \n",
       "0            AhamadJim                                            Unknown  \n",
       "1       ahmetaslan_nft                              Hatay, T\\xc3\\xbcrkiye  \n",
       "2         kriztechnews                                            Unknown  \n",
       "3        RivaWinifred1                                            Unknown  \n",
       "4         wawankentuzz                                          Indonesia  \n",
       "...                ...                                                ...  \n",
       "11783   Keulmaille_NFT                                    Los Angeles, CA  \n",
       "11784          JJJSS99                                            Unknown  \n",
       "11785        raksawinn  \\xe0\\xb8\\x9b\\xe0\\xb8\\xa3\\xe0\\xb8\\xb0\\xe0\\xb9\\x...  \n",
       "11786  DarkbalanceShot                              Turkey / \\xc4\\xb0zmir  \n",
       "11787    laketreasuree                                            Unknown  \n",
       "\n",
       "[11788 rows x 4 columns]"
      ]
     },
     "execution_count": 32,
     "metadata": {},
     "output_type": "execute_result"
    }
   ],
   "source": [
    "data"
   ]
  },
  {
   "cell_type": "code",
   "execution_count": 33,
   "id": "d40a5d41",
   "metadata": {},
   "outputs": [
    {
     "name": "stdout",
     "output_type": "stream",
     "text": [
      "Location------------------------------------------------------------------------------------------------------------------------------------------------------------------------------------------------------------------------------------------------------------------------------------------------------------------------------------------------------------------------------------------------------------------------------------------------------------------------------------------------------------ ['Unknown' 'Hatay, T\\\\xc3\\\\xbcrkiye' 'Indonesia' ... 'Blockchain City'\n",
      " 'Cikarang, West Java' 'Playboy Mansion']\n"
     ]
    }
   ],
   "source": [
    "newdata = data[['Location']]\n",
    "for c in newdata:\n",
    "    print(f'{c :-<500} {data[c].unique()}')"
   ]
  },
  {
   "cell_type": "code",
   "execution_count": 34,
   "id": "7cd203da",
   "metadata": {},
   "outputs": [],
   "source": [
    "test=data['Location'].str.contains('Unknown').value_counts()"
   ]
  },
  {
   "cell_type": "code",
   "execution_count": 35,
   "id": "d2fd7886",
   "metadata": {},
   "outputs": [
    {
     "data": {
      "text/plain": [
       "<AxesSubplot:>"
      ]
     },
     "execution_count": 35,
     "metadata": {},
     "output_type": "execute_result"
    },
    {
     "data": {
      "image/png": "[encoded data removed]",
      "text/plain": [
       "<Figure size 432x288 with 1 Axes>"
      ]
     },
     "metadata": {
      "needs_background": "light"
     },
     "output_type": "display_data"
    }
   ],
   "source": [
    "test.plot.bar(color=\"orange\")"
   ]
  },
  {
   "cell_type": "code",
   "execution_count": 36,
   "id": "e4e89e57",
   "metadata": {},
   "outputs": [
    {
     "data": {
      "text/html": [
       "<div>\n",
       "<style scoped>\n",
       "    .dataframe tbody tr th:only-of-type {\n",
       "        vertical-align: middle;\n",
       "    }\n",
       "\n",
       "    .dataframe tbody tr th {\n",
       "        vertical-align: top;\n",
       "    }\n",
       "\n",
       "    .dataframe thead th {\n",
       "        text-align: right;\n",
       "    }\n",
       "</style>\n",
       "<table border=\"1\" class=\"dataframe\">\n",
       "  <thead>\n",
       "    <tr style=\"text-align: right;\">\n",
       "      <th></th>\n",
       "      <th>User</th>\n",
       "      <th>Content</th>\n",
       "      <th>Date &amp; Time</th>\n",
       "      <th>Location</th>\n",
       "    </tr>\n",
       "  </thead>\n",
       "  <tbody>\n",
       "    <tr>\n",
       "      <th>0</th>\n",
       "      <td>AhamadJim</td>\n",
       "      <td>@Moonsie_NFT @FlipprTool @J777Crypto @darwin_n...</td>\n",
       "      <td>2022-05-07 15:37:17</td>\n",
       "      <td>Unknown</td>\n",
       "    </tr>\n",
       "    <tr>\n",
       "      <th>1</th>\n",
       "      <td>ahmetaslan_nft</td>\n",
       "      <td>@TheArtistEvie Thank you so much \\xf0\\x9f\\x8d\\x80</td>\n",
       "      <td>2022-05-07 15:37:17</td>\n",
       "      <td>Hatay, T\\xc3\\xbcrkiye</td>\n",
       "    </tr>\n",
       "    <tr>\n",
       "      <th>2</th>\n",
       "      <td>kriztechnews</td>\n",
       "      <td>Coinbase\\xe2\\x80\\x99s NFT marketplace logs few...</td>\n",
       "      <td>2022-05-07 15:37:17</td>\n",
       "      <td>Unknown</td>\n",
       "    </tr>\n",
       "    <tr>\n",
       "      <th>3</th>\n",
       "      <td>RivaWinifred1</td>\n",
       "      <td>@SoulZ_NFT @GiveawaysSoulz @JukiverseNFT love ...</td>\n",
       "      <td>2022-05-07 15:37:16</td>\n",
       "      <td>Unknown</td>\n",
       "    </tr>\n",
       "    <tr>\n",
       "      <th>4</th>\n",
       "      <td>wawankentuzz</td>\n",
       "      <td>@SolChiefNFT @ChiruCatz @findersol_NFT @segono...</td>\n",
       "      <td>2022-05-07 15:37:16</td>\n",
       "      <td>Indonesia</td>\n",
       "    </tr>\n",
       "    <tr>\n",
       "      <th>...</th>\n",
       "      <td>...</td>\n",
       "      <td>...</td>\n",
       "      <td>...</td>\n",
       "      <td>...</td>\n",
       "    </tr>\n",
       "    <tr>\n",
       "      <th>11783</th>\n",
       "      <td>Keulmaille_NFT</td>\n",
       "      <td>@Kingofmidtown1 @ryan_talbot_ @bryanbrinkman @...</td>\n",
       "      <td>2022-05-07 14:43:47</td>\n",
       "      <td>Los Angeles, CA</td>\n",
       "    </tr>\n",
       "    <tr>\n",
       "      <th>11784</th>\n",
       "      <td>JJJSS99</td>\n",
       "      <td>@Hiraeth_NFT I was chosen. Now it's your turn ...</td>\n",
       "      <td>2022-05-07 14:43:47</td>\n",
       "      <td>Unknown</td>\n",
       "    </tr>\n",
       "    <tr>\n",
       "      <th>11785</th>\n",
       "      <td>raksawinn</td>\n",
       "      <td>Hi  GM world.   \\nDrop your NFT only $xtz  pls...</td>\n",
       "      <td>2022-05-07 14:43:46</td>\n",
       "      <td>\\xe0\\xb8\\x9b\\xe0\\xb8\\xa3\\xe0\\xb8\\xb0\\xe0\\xb9\\x...</td>\n",
       "    </tr>\n",
       "    <tr>\n",
       "      <th>11786</th>\n",
       "      <td>DarkbalanceShot</td>\n",
       "      <td>The first 5 items of the new collection have b...</td>\n",
       "      <td>2022-05-07 14:43:46</td>\n",
       "      <td>Turkey / \\xc4\\xb0zmir</td>\n",
       "    </tr>\n",
       "    <tr>\n",
       "      <th>11787</th>\n",
       "      <td>laketreasuree</td>\n",
       "      <td>@AAXExchange Hurry, only 3 days to go! Come vi...</td>\n",
       "      <td>2022-05-07 14:43:45</td>\n",
       "      <td>Unknown</td>\n",
       "    </tr>\n",
       "  </tbody>\n",
       "</table>\n",
       "<p>11788 rows × 4 columns</p>\n",
       "</div>"
      ],
      "text/plain": [
       "                  User                                            Content  \\\n",
       "0            AhamadJim  @Moonsie_NFT @FlipprTool @J777Crypto @darwin_n...   \n",
       "1       ahmetaslan_nft  @TheArtistEvie Thank you so much \\xf0\\x9f\\x8d\\x80   \n",
       "2         kriztechnews  Coinbase\\xe2\\x80\\x99s NFT marketplace logs few...   \n",
       "3        RivaWinifred1  @SoulZ_NFT @GiveawaysSoulz @JukiverseNFT love ...   \n",
       "4         wawankentuzz  @SolChiefNFT @ChiruCatz @findersol_NFT @segono...   \n",
       "...                ...                                                ...   \n",
       "11783   Keulmaille_NFT  @Kingofmidtown1 @ryan_talbot_ @bryanbrinkman @...   \n",
       "11784          JJJSS99  @Hiraeth_NFT I was chosen. Now it's your turn ...   \n",
       "11785        raksawinn  Hi  GM world.   \\nDrop your NFT only $xtz  pls...   \n",
       "11786  DarkbalanceShot  The first 5 items of the new collection have b...   \n",
       "11787    laketreasuree  @AAXExchange Hurry, only 3 days to go! Come vi...   \n",
       "\n",
       "               Date & Time                                           Location  \n",
       "0      2022-05-07 15:37:17                                            Unknown  \n",
       "1      2022-05-07 15:37:17                              Hatay, T\\xc3\\xbcrkiye  \n",
       "2      2022-05-07 15:37:17                                            Unknown  \n",
       "3      2022-05-07 15:37:16                                            Unknown  \n",
       "4      2022-05-07 15:37:16                                          Indonesia  \n",
       "...                    ...                                                ...  \n",
       "11783  2022-05-07 14:43:47                                    Los Angeles, CA  \n",
       "11784  2022-05-07 14:43:47                                            Unknown  \n",
       "11785  2022-05-07 14:43:46  \\xe0\\xb8\\x9b\\xe0\\xb8\\xa3\\xe0\\xb8\\xb0\\xe0\\xb9\\x...  \n",
       "11786  2022-05-07 14:43:46                              Turkey / \\xc4\\xb0zmir  \n",
       "11787  2022-05-07 14:43:45                                            Unknown  \n",
       "\n",
       "[11788 rows x 4 columns]"
      ]
     },
     "execution_count": 36,
     "metadata": {},
     "output_type": "execute_result"
    }
   ],
   "source": [
    "data = data.reindex(['User','Content','Date & Time','Location'], axis=1)\n",
    "data"
   ]
  },
  {
   "cell_type": "code",
   "execution_count": 37,
   "id": "acc70052",
   "metadata": {},
   "outputs": [
    {
     "data": {
      "text/html": [
       "<div>\n",
       "<style scoped>\n",
       "    .dataframe tbody tr th:only-of-type {\n",
       "        vertical-align: middle;\n",
       "    }\n",
       "\n",
       "    .dataframe tbody tr th {\n",
       "        vertical-align: top;\n",
       "    }\n",
       "\n",
       "    .dataframe thead th {\n",
       "        text-align: right;\n",
       "    }\n",
       "</style>\n",
       "<table border=\"1\" class=\"dataframe\">\n",
       "  <thead>\n",
       "    <tr style=\"text-align: right;\">\n",
       "      <th></th>\n",
       "      <th>User</th>\n",
       "      <th>Content</th>\n",
       "      <th>Date &amp; Time</th>\n",
       "      <th>Location</th>\n",
       "    </tr>\n",
       "  </thead>\n",
       "  <tbody>\n",
       "    <tr>\n",
       "      <th>0</th>\n",
       "      <td>AhamadJim</td>\n",
       "      <td>@moonsie_nft @flipprtool @j777crypto @darwin_n...</td>\n",
       "      <td>2022-05-07 15:37:17</td>\n",
       "      <td>Unknown</td>\n",
       "    </tr>\n",
       "    <tr>\n",
       "      <th>1</th>\n",
       "      <td>ahmetaslan_nft</td>\n",
       "      <td>@theartistevie thank you so much \\xf0\\x9f\\x8d\\x80</td>\n",
       "      <td>2022-05-07 15:37:17</td>\n",
       "      <td>Hatay, T\\xc3\\xbcrkiye</td>\n",
       "    </tr>\n",
       "    <tr>\n",
       "      <th>2</th>\n",
       "      <td>kriztechnews</td>\n",
       "      <td>coinbase\\xe2\\x80\\x99s nft marketplace logs few...</td>\n",
       "      <td>2022-05-07 15:37:17</td>\n",
       "      <td>Unknown</td>\n",
       "    </tr>\n",
       "    <tr>\n",
       "      <th>3</th>\n",
       "      <td>RivaWinifred1</td>\n",
       "      <td>@soulz_nft @giveawayssoulz @jukiversenft love ...</td>\n",
       "      <td>2022-05-07 15:37:16</td>\n",
       "      <td>Unknown</td>\n",
       "    </tr>\n",
       "    <tr>\n",
       "      <th>4</th>\n",
       "      <td>wawankentuzz</td>\n",
       "      <td>@solchiefnft @chirucatz @findersol_nft @segono...</td>\n",
       "      <td>2022-05-07 15:37:16</td>\n",
       "      <td>Indonesia</td>\n",
       "    </tr>\n",
       "    <tr>\n",
       "      <th>...</th>\n",
       "      <td>...</td>\n",
       "      <td>...</td>\n",
       "      <td>...</td>\n",
       "      <td>...</td>\n",
       "    </tr>\n",
       "    <tr>\n",
       "      <th>11783</th>\n",
       "      <td>Keulmaille_NFT</td>\n",
       "      <td>@kingofmidtown1 @ryan_talbot_ @bryanbrinkman @...</td>\n",
       "      <td>2022-05-07 14:43:47</td>\n",
       "      <td>Los Angeles, CA</td>\n",
       "    </tr>\n",
       "    <tr>\n",
       "      <th>11784</th>\n",
       "      <td>JJJSS99</td>\n",
       "      <td>@hiraeth_nft i was chosen. now it's your turn ...</td>\n",
       "      <td>2022-05-07 14:43:47</td>\n",
       "      <td>Unknown</td>\n",
       "    </tr>\n",
       "    <tr>\n",
       "      <th>11785</th>\n",
       "      <td>raksawinn</td>\n",
       "      <td>hi  gm world.   \\ndrop your nft only $xtz  pls...</td>\n",
       "      <td>2022-05-07 14:43:46</td>\n",
       "      <td>\\xe0\\xb8\\x9b\\xe0\\xb8\\xa3\\xe0\\xb8\\xb0\\xe0\\xb9\\x...</td>\n",
       "    </tr>\n",
       "    <tr>\n",
       "      <th>11786</th>\n",
       "      <td>DarkbalanceShot</td>\n",
       "      <td>the first 5 items of the new collection have b...</td>\n",
       "      <td>2022-05-07 14:43:46</td>\n",
       "      <td>Turkey / \\xc4\\xb0zmir</td>\n",
       "    </tr>\n",
       "    <tr>\n",
       "      <th>11787</th>\n",
       "      <td>laketreasuree</td>\n",
       "      <td>@aaxexchange hurry, only 3 days to go! come vi...</td>\n",
       "      <td>2022-05-07 14:43:45</td>\n",
       "      <td>Unknown</td>\n",
       "    </tr>\n",
       "  </tbody>\n",
       "</table>\n",
       "<p>11788 rows × 4 columns</p>\n",
       "</div>"
      ],
      "text/plain": [
       "                  User                                            Content  \\\n",
       "0            AhamadJim  @moonsie_nft @flipprtool @j777crypto @darwin_n...   \n",
       "1       ahmetaslan_nft  @theartistevie thank you so much \\xf0\\x9f\\x8d\\x80   \n",
       "2         kriztechnews  coinbase\\xe2\\x80\\x99s nft marketplace logs few...   \n",
       "3        RivaWinifred1  @soulz_nft @giveawayssoulz @jukiversenft love ...   \n",
       "4         wawankentuzz  @solchiefnft @chirucatz @findersol_nft @segono...   \n",
       "...                ...                                                ...   \n",
       "11783   Keulmaille_NFT  @kingofmidtown1 @ryan_talbot_ @bryanbrinkman @...   \n",
       "11784          JJJSS99  @hiraeth_nft i was chosen. now it's your turn ...   \n",
       "11785        raksawinn  hi  gm world.   \\ndrop your nft only $xtz  pls...   \n",
       "11786  DarkbalanceShot  the first 5 items of the new collection have b...   \n",
       "11787    laketreasuree  @aaxexchange hurry, only 3 days to go! come vi...   \n",
       "\n",
       "               Date & Time                                           Location  \n",
       "0      2022-05-07 15:37:17                                            Unknown  \n",
       "1      2022-05-07 15:37:17                              Hatay, T\\xc3\\xbcrkiye  \n",
       "2      2022-05-07 15:37:17                                            Unknown  \n",
       "3      2022-05-07 15:37:16                                            Unknown  \n",
       "4      2022-05-07 15:37:16                                          Indonesia  \n",
       "...                    ...                                                ...  \n",
       "11783  2022-05-07 14:43:47                                    Los Angeles, CA  \n",
       "11784  2022-05-07 14:43:47                                            Unknown  \n",
       "11785  2022-05-07 14:43:46  \\xe0\\xb8\\x9b\\xe0\\xb8\\xa3\\xe0\\xb8\\xb0\\xe0\\xb9\\x...  \n",
       "11786  2022-05-07 14:43:46                              Turkey / \\xc4\\xb0zmir  \n",
       "11787  2022-05-07 14:43:45                                            Unknown  \n",
       "\n",
       "[11788 rows x 4 columns]"
      ]
     },
     "execution_count": 37,
     "metadata": {},
     "output_type": "execute_result"
    }
   ],
   "source": [
    "data['Content']=data['Content'].str.lower()\n",
    "data"
   ]
  },
  {
   "cell_type": "code",
   "execution_count": 38,
   "id": "0e13b1d3",
   "metadata": {},
   "outputs": [],
   "source": [
    "stopwordlist = ['a', 'about', 'above', 'after', 'again', 'ain', 'all', 'am', 'an',\n",
    "             'and','any','are', 'as', 'at', 'be', 'because', 'been', 'before',\n",
    "             'being', 'below', 'between','both', 'by', 'can', 'd', 'did', 'do',\n",
    "             'does', 'doing', 'down', 'during', 'each','few', 'for', 'from',\n",
    "             'further', 'had', 'has', 'have', 'having', 'he', 'her', 'here',\n",
    "             'hers', 'herself', 'him', 'himself', 'his', 'how', 'i', 'if', 'in',\n",
    "             'into','is', 'it', 'its', 'itself', 'just', 'll', 'm', 'ma',\n",
    "             'me', 'more', 'most','my', 'myself', 'now', 'o', 'of', 'on', 'once',\n",
    "             'only', 'or', 'other', 'our', 'ours','ourselves', 'out', 'own', 're','s', 'same', 'she', \"shes\", 'should', \"shouldve\",'so', 'some', 'such',\n",
    "             't', 'than', 'that', \"thatll\", 'the', 'their', 'theirs', 'them',\n",
    "             'themselves', 'then', 'there', 'these', 'they', 'this', 'those',\n",
    "             'through', 'to', 'too','under', 'until', 'up', 've', 'very', 'was',\n",
    "             'we', 'were', 'what', 'when', 'where','which','while', 'who', 'whom',\n",
    "             'why', 'will', 'with', 'won', 'y', 'you', \"youd\",\"youll\", \"youre\",\n",
    "             \"youve\", 'your', 'yours', 'yourself', 'yourselves']"
   ]
  },
  {
   "cell_type": "code",
   "execution_count": 39,
   "id": "51a3670f",
   "metadata": {},
   "outputs": [
    {
     "data": {
      "text/plain": [
       "0    @moonsie_nft @flipprtool @j777crypto @darwin_n...\n",
       "1           @theartistevie thank much \\xf0\\x9f\\x8d\\x80\n",
       "2    coinbase\\xe2\\x80\\x99s nft marketplace logs few...\n",
       "3    @soulz_nft @giveawayssoulz @jukiversenft love ...\n",
       "4    @solchiefnft @chirucatz @findersol_nft @segono...\n",
       "Name: Content, dtype: object"
      ]
     },
     "execution_count": 39,
     "metadata": {},
     "output_type": "execute_result"
    }
   ],
   "source": [
    "STOPWORDS = set(stopwordlist)\n",
    "def cleaning_stopwords(text):\n",
    "    return \" \".join([word for word in str(text).split() if word not in STOPWORDS])\n",
    "data['Content'] = data['Content'].apply(lambda text: cleaning_stopwords(text))\n",
    "data['Content'].head()"
   ]
  },
  {
   "cell_type": "code",
   "execution_count": 40,
   "id": "283d0004",
   "metadata": {},
   "outputs": [
    {
     "data": {
      "text/plain": [
       "11783    kingofmidtown1 ryantalbot bryanbrinkman offsho...\n",
       "11784    hiraethnft chosen its turn nburixx1 gktnft caw...\n",
       "11785    hi gm world ndrop nft xtz pls xe2x9cx8cxefxb8x...\n",
       "11786    first 5 items new collection uploadednhttpstco...\n",
       "11787    aaxexchange hurry 3 days go come visit mooneyx...\n",
       "Name: Content, dtype: object"
      ]
     },
     "execution_count": 40,
     "metadata": {},
     "output_type": "execute_result"
    }
   ],
   "source": [
    "import string\n",
    "english_punctuations = string.punctuation\n",
    "punctuations_list = english_punctuations\n",
    "def cleaning_punctuations(text):\n",
    "    translator = str.maketrans('', '', punctuations_list)\n",
    "    return text.translate(translator)\n",
    "data['Content']= data['Content'].apply(lambda x: cleaning_punctuations(x))\n",
    "data['Content'].tail()"
   ]
  },
  {
   "cell_type": "code",
   "execution_count": 41,
   "id": "3556f9c2",
   "metadata": {},
   "outputs": [
    {
     "data": {
      "text/plain": [
       "11783    kingofmidtow1 ryantalbot bryanbrinkman offshoo...\n",
       "11784    hiraethnft chosen its turn nburix1 gktnft cawanft\n",
       "11785    hi gm world ndrop nft xtz pls xe2x9cx8cxefxb8x...\n",
       "11786    first 5 items new collection uploadednhttpstco...\n",
       "11787    aaxexchange hurry 3 days go come visit mooneyx...\n",
       "Name: Content, dtype: object"
      ]
     },
     "execution_count": 41,
     "metadata": {},
     "output_type": "execute_result"
    }
   ],
   "source": [
    "def cleaning_repeating_char(text):\n",
    "    return re.sub(r'(.)1+', r'1', text)\n",
    "data['Content'] = data['Content'].apply(lambda x: cleaning_repeating_char(x))\n",
    "data['Content'].tail()"
   ]
  },
  {
   "cell_type": "code",
   "execution_count": 42,
   "id": "43e7a78b",
   "metadata": {},
   "outputs": [
    {
     "data": {
      "text/plain": [
       "11783    kingofmidtow1 ryantalbot bryanbrinkman offshoo...\n",
       "11784    hiraethnft chosen its turn nburix1 gktnft cawanft\n",
       "11785    hi gm world ndrop nft xtz pls xe2x9cx8cxefxb8x...\n",
       "11786    first 5 items new collection uploadednhttpstco...\n",
       "11787    aaxexchange hurry 3 days go come visit mooneyx...\n",
       "Name: Content, dtype: object"
      ]
     },
     "execution_count": 42,
     "metadata": {},
     "output_type": "execute_result"
    }
   ],
   "source": [
    "def cleaning_URLs(data):\n",
    "    return re.sub('((www.[^s]+)|(https?://[^s]+))',' ',data)\n",
    "data['Content'] = data['Content'].apply(lambda x: cleaning_URLs(x))\n",
    "data['Content'].tail()"
   ]
  },
  {
   "cell_type": "code",
   "execution_count": 43,
   "id": "deab31b3",
   "metadata": {},
   "outputs": [
    {
     "data": {
      "text/html": [
       "<div>\n",
       "<style scoped>\n",
       "    .dataframe tbody tr th:only-of-type {\n",
       "        vertical-align: middle;\n",
       "    }\n",
       "\n",
       "    .dataframe tbody tr th {\n",
       "        vertical-align: top;\n",
       "    }\n",
       "\n",
       "    .dataframe thead th {\n",
       "        text-align: right;\n",
       "    }\n",
       "</style>\n",
       "<table border=\"1\" class=\"dataframe\">\n",
       "  <thead>\n",
       "    <tr style=\"text-align: right;\">\n",
       "      <th></th>\n",
       "      <th>User</th>\n",
       "      <th>Content</th>\n",
       "      <th>Date &amp; Time</th>\n",
       "      <th>Location</th>\n",
       "    </tr>\n",
       "  </thead>\n",
       "  <tbody>\n",
       "    <tr>\n",
       "      <th>0</th>\n",
       "      <td>AhamadJim</td>\n",
       "      <td>moonsienft flipprtool j777crypto darwinnft don...</td>\n",
       "      <td>2022-05-07 15:37:17</td>\n",
       "      <td>Unknown</td>\n",
       "    </tr>\n",
       "    <tr>\n",
       "      <th>1</th>\n",
       "      <td>ahmetaslan_nft</td>\n",
       "      <td>theartistevie thank much xf0x9fx8dx80</td>\n",
       "      <td>2022-05-07 15:37:17</td>\n",
       "      <td>Hatay, T\\xc3\\xbcrkiye</td>\n",
       "    </tr>\n",
       "    <tr>\n",
       "      <th>2</th>\n",
       "      <td>kriztechnews</td>\n",
       "      <td>coinbasexe2x80x99s nft marketplace logs fewer1...</td>\n",
       "      <td>2022-05-07 15:37:17</td>\n",
       "      <td>Unknown</td>\n",
       "    </tr>\n",
       "    <tr>\n",
       "      <th>3</th>\n",
       "      <td>RivaWinifred1</td>\n",
       "      <td>soulznft giveawayssoulz jukiversenft love bart...</td>\n",
       "      <td>2022-05-07 15:37:16</td>\n",
       "      <td>Unknown</td>\n",
       "    </tr>\n",
       "    <tr>\n",
       "      <th>4</th>\n",
       "      <td>wawankentuzz</td>\n",
       "      <td>solchiefnft chirucatz findersolnft segonogo hi...</td>\n",
       "      <td>2022-05-07 15:37:16</td>\n",
       "      <td>Indonesia</td>\n",
       "    </tr>\n",
       "    <tr>\n",
       "      <th>...</th>\n",
       "      <td>...</td>\n",
       "      <td>...</td>\n",
       "      <td>...</td>\n",
       "      <td>...</td>\n",
       "    </tr>\n",
       "    <tr>\n",
       "      <th>11783</th>\n",
       "      <td>Keulmaille_NFT</td>\n",
       "      <td>kingofmidtow1 ryantalbot bryanbrinkman offshoo...</td>\n",
       "      <td>2022-05-07 14:43:47</td>\n",
       "      <td>Los Angeles, CA</td>\n",
       "    </tr>\n",
       "    <tr>\n",
       "      <th>11784</th>\n",
       "      <td>JJJSS99</td>\n",
       "      <td>hiraethnft chosen its turn nburix1 gktnft cawanft</td>\n",
       "      <td>2022-05-07 14:43:47</td>\n",
       "      <td>Unknown</td>\n",
       "    </tr>\n",
       "    <tr>\n",
       "      <th>11785</th>\n",
       "      <td>raksawinn</td>\n",
       "      <td>hi gm world ndrop nft xtz pls xe2x9cx8cxefxb8x...</td>\n",
       "      <td>2022-05-07 14:43:46</td>\n",
       "      <td>\\xe0\\xb8\\x9b\\xe0\\xb8\\xa3\\xe0\\xb8\\xb0\\xe0\\xb9\\x...</td>\n",
       "    </tr>\n",
       "    <tr>\n",
       "      <th>11786</th>\n",
       "      <td>DarkbalanceShot</td>\n",
       "      <td>first 5 items new collection uploadednhttpstco...</td>\n",
       "      <td>2022-05-07 14:43:46</td>\n",
       "      <td>Turkey / \\xc4\\xb0zmir</td>\n",
       "    </tr>\n",
       "    <tr>\n",
       "      <th>11787</th>\n",
       "      <td>laketreasuree</td>\n",
       "      <td>aaxexchange hurry 3 days go come visit mooneyx...</td>\n",
       "      <td>2022-05-07 14:43:45</td>\n",
       "      <td>Unknown</td>\n",
       "    </tr>\n",
       "  </tbody>\n",
       "</table>\n",
       "<p>11788 rows × 4 columns</p>\n",
       "</div>"
      ],
      "text/plain": [
       "                  User                                            Content  \\\n",
       "0            AhamadJim  moonsienft flipprtool j777crypto darwinnft don...   \n",
       "1       ahmetaslan_nft              theartistevie thank much xf0x9fx8dx80   \n",
       "2         kriztechnews  coinbasexe2x80x99s nft marketplace logs fewer1...   \n",
       "3        RivaWinifred1  soulznft giveawayssoulz jukiversenft love bart...   \n",
       "4         wawankentuzz  solchiefnft chirucatz findersolnft segonogo hi...   \n",
       "...                ...                                                ...   \n",
       "11783   Keulmaille_NFT  kingofmidtow1 ryantalbot bryanbrinkman offshoo...   \n",
       "11784          JJJSS99  hiraethnft chosen its turn nburix1 gktnft cawanft   \n",
       "11785        raksawinn  hi gm world ndrop nft xtz pls xe2x9cx8cxefxb8x...   \n",
       "11786  DarkbalanceShot  first 5 items new collection uploadednhttpstco...   \n",
       "11787    laketreasuree  aaxexchange hurry 3 days go come visit mooneyx...   \n",
       "\n",
       "               Date & Time                                           Location  \n",
       "0      2022-05-07 15:37:17                                            Unknown  \n",
       "1      2022-05-07 15:37:17                              Hatay, T\\xc3\\xbcrkiye  \n",
       "2      2022-05-07 15:37:17                                            Unknown  \n",
       "3      2022-05-07 15:37:16                                            Unknown  \n",
       "4      2022-05-07 15:37:16                                          Indonesia  \n",
       "...                    ...                                                ...  \n",
       "11783  2022-05-07 14:43:47                                    Los Angeles, CA  \n",
       "11784  2022-05-07 14:43:47                                            Unknown  \n",
       "11785  2022-05-07 14:43:46  \\xe0\\xb8\\x9b\\xe0\\xb8\\xa3\\xe0\\xb8\\xb0\\xe0\\xb9\\x...  \n",
       "11786  2022-05-07 14:43:46                              Turkey / \\xc4\\xb0zmir  \n",
       "11787  2022-05-07 14:43:45                                            Unknown  \n",
       "\n",
       "[11788 rows x 4 columns]"
      ]
     },
     "execution_count": 43,
     "metadata": {},
     "output_type": "execute_result"
    }
   ],
   "source": [
    "data"
   ]
  },
  {
   "cell_type": "markdown",
   "id": "71567419",
   "metadata": {},
   "source": [
    "# <font color=darkblue>Sentiment Analysis </font>"
   ]
  },
  {
   "cell_type": "markdown",
   "id": "c1d6ccbf",
   "metadata": {},
   "source": [
    "<font  color=black> **- TextBlob** </font>"
   ]
  },
  {
   "cell_type": "code",
   "execution_count": 44,
   "id": "8cc06d7d",
   "metadata": {},
   "outputs": [],
   "source": [
    "def polarity_detection(text):\n",
    "    return TextBlob(text).sentiment.polarity\n",
    "def subjectivity_detection(text):\n",
    "    return TextBlob(text).sentiment.subjectivity"
   ]
  },
  {
   "cell_type": "code",
   "execution_count": 45,
   "id": "3a1e414f",
   "metadata": {},
   "outputs": [
    {
     "data": {
      "text/plain": [
       "-1.0"
      ]
     },
     "execution_count": 45,
     "metadata": {},
     "output_type": "execute_result"
    }
   ],
   "source": [
    "polarity_detection(\"I hate this!\")"
   ]
  },
  {
   "cell_type": "code",
   "execution_count": 46,
   "id": "8c82830b",
   "metadata": {},
   "outputs": [
    {
     "data": {
      "text/plain": [
       "0.625"
      ]
     },
     "execution_count": 46,
     "metadata": {},
     "output_type": "execute_result"
    }
   ],
   "source": [
    "polarity_detection(\"Love it!\")"
   ]
  },
  {
   "cell_type": "code",
   "execution_count": 47,
   "id": "d2186110",
   "metadata": {},
   "outputs": [
    {
     "data": {
      "text/plain": [
       "0.0"
      ]
     },
     "execution_count": 47,
     "metadata": {},
     "output_type": "execute_result"
    }
   ],
   "source": [
    "subjectivity_detection(\"I don't like it\")"
   ]
  },
  {
   "cell_type": "code",
   "execution_count": 48,
   "id": "cb235bc1",
   "metadata": {},
   "outputs": [
    {
     "data": {
      "text/plain": [
       "0.5"
      ]
     },
     "execution_count": 48,
     "metadata": {},
     "output_type": "execute_result"
    }
   ],
   "source": [
    "subjectivity_detection(\"this is fine but I prefer this\")"
   ]
  },
  {
   "cell_type": "code",
   "execution_count": 49,
   "id": "0116a69c",
   "metadata": {},
   "outputs": [],
   "source": [
    "polarity=data[\"Content\"].apply(polarity_detection)\n",
    "subjectivity=data[\"Content\"].apply(subjectivity_detection)"
   ]
  },
  {
   "cell_type": "code",
   "execution_count": 50,
   "id": "fb154468",
   "metadata": {},
   "outputs": [],
   "source": [
    "data_text_blob = data.copy(deep=True)"
   ]
  },
  {
   "cell_type": "code",
   "execution_count": 51,
   "id": "f8edbdcd",
   "metadata": {},
   "outputs": [],
   "source": [
    "data_text_blob.insert(loc=4,\n",
    "          column='Polarity',\n",
    "          value=polarity)"
   ]
  },
  {
   "cell_type": "code",
   "execution_count": 52,
   "id": "18e93652",
   "metadata": {},
   "outputs": [],
   "source": [
    "data_text_blob.insert(loc=5,\n",
    "          column='Subjectivity',\n",
    "          value=subjectivity)"
   ]
  },
  {
   "cell_type": "code",
   "execution_count": 53,
   "id": "96c22c32",
   "metadata": {},
   "outputs": [
    {
     "data": {
      "text/html": [
       "<div>\n",
       "<style scoped>\n",
       "    .dataframe tbody tr th:only-of-type {\n",
       "        vertical-align: middle;\n",
       "    }\n",
       "\n",
       "    .dataframe tbody tr th {\n",
       "        vertical-align: top;\n",
       "    }\n",
       "\n",
       "    .dataframe thead th {\n",
       "        text-align: right;\n",
       "    }\n",
       "</style>\n",
       "<table border=\"1\" class=\"dataframe\">\n",
       "  <thead>\n",
       "    <tr style=\"text-align: right;\">\n",
       "      <th></th>\n",
       "      <th>User</th>\n",
       "      <th>Content</th>\n",
       "      <th>Date &amp; Time</th>\n",
       "      <th>Location</th>\n",
       "      <th>Polarity</th>\n",
       "      <th>Subjectivity</th>\n",
       "    </tr>\n",
       "  </thead>\n",
       "  <tbody>\n",
       "    <tr>\n",
       "      <th>0</th>\n",
       "      <td>AhamadJim</td>\n",
       "      <td>moonsienft flipprtool j777crypto darwinnft don...</td>\n",
       "      <td>2022-05-07 15:37:17</td>\n",
       "      <td>Unknown</td>\n",
       "      <td>0.000000</td>\n",
       "      <td>0.000000</td>\n",
       "    </tr>\n",
       "    <tr>\n",
       "      <th>1</th>\n",
       "      <td>ahmetaslan_nft</td>\n",
       "      <td>theartistevie thank much xf0x9fx8dx80</td>\n",
       "      <td>2022-05-07 15:37:17</td>\n",
       "      <td>Hatay, T\\xc3\\xbcrkiye</td>\n",
       "      <td>0.200000</td>\n",
       "      <td>0.200000</td>\n",
       "    </tr>\n",
       "    <tr>\n",
       "      <th>2</th>\n",
       "      <td>kriztechnews</td>\n",
       "      <td>coinbasexe2x80x99s nft marketplace logs fewer1...</td>\n",
       "      <td>2022-05-07 15:37:17</td>\n",
       "      <td>Unknown</td>\n",
       "      <td>0.000000</td>\n",
       "      <td>0.000000</td>\n",
       "    </tr>\n",
       "    <tr>\n",
       "      <th>3</th>\n",
       "      <td>RivaWinifred1</td>\n",
       "      <td>soulznft giveawayssoulz jukiversenft love bart...</td>\n",
       "      <td>2022-05-07 15:37:16</td>\n",
       "      <td>Unknown</td>\n",
       "      <td>0.500000</td>\n",
       "      <td>0.600000</td>\n",
       "    </tr>\n",
       "    <tr>\n",
       "      <th>4</th>\n",
       "      <td>wawankentuzz</td>\n",
       "      <td>solchiefnft chirucatz findersolnft segonogo hi...</td>\n",
       "      <td>2022-05-07 15:37:16</td>\n",
       "      <td>Indonesia</td>\n",
       "      <td>0.800000</td>\n",
       "      <td>0.400000</td>\n",
       "    </tr>\n",
       "    <tr>\n",
       "      <th>...</th>\n",
       "      <td>...</td>\n",
       "      <td>...</td>\n",
       "      <td>...</td>\n",
       "      <td>...</td>\n",
       "      <td>...</td>\n",
       "      <td>...</td>\n",
       "    </tr>\n",
       "    <tr>\n",
       "      <th>11783</th>\n",
       "      <td>Keulmaille_NFT</td>\n",
       "      <td>kingofmidtow1 ryantalbot bryanbrinkman offshoo...</td>\n",
       "      <td>2022-05-07 14:43:47</td>\n",
       "      <td>Los Angeles, CA</td>\n",
       "      <td>0.000000</td>\n",
       "      <td>0.000000</td>\n",
       "    </tr>\n",
       "    <tr>\n",
       "      <th>11784</th>\n",
       "      <td>JJJSS99</td>\n",
       "      <td>hiraethnft chosen its turn nburix1 gktnft cawanft</td>\n",
       "      <td>2022-05-07 14:43:47</td>\n",
       "      <td>Unknown</td>\n",
       "      <td>0.000000</td>\n",
       "      <td>0.000000</td>\n",
       "    </tr>\n",
       "    <tr>\n",
       "      <th>11785</th>\n",
       "      <td>raksawinn</td>\n",
       "      <td>hi gm world ndrop nft xtz pls xe2x9cx8cxefxb8x...</td>\n",
       "      <td>2022-05-07 14:43:46</td>\n",
       "      <td>\\xe0\\xb8\\x9b\\xe0\\xb8\\xa3\\xe0\\xb8\\xb0\\xe0\\xb9\\x...</td>\n",
       "      <td>0.000000</td>\n",
       "      <td>0.000000</td>\n",
       "    </tr>\n",
       "    <tr>\n",
       "      <th>11786</th>\n",
       "      <td>DarkbalanceShot</td>\n",
       "      <td>first 5 items new collection uploadednhttpstco...</td>\n",
       "      <td>2022-05-07 14:43:46</td>\n",
       "      <td>Turkey / \\xc4\\xb0zmir</td>\n",
       "      <td>0.193182</td>\n",
       "      <td>0.393939</td>\n",
       "    </tr>\n",
       "    <tr>\n",
       "      <th>11787</th>\n",
       "      <td>laketreasuree</td>\n",
       "      <td>aaxexchange hurry 3 days go come visit mooneyx...</td>\n",
       "      <td>2022-05-07 14:43:45</td>\n",
       "      <td>Unknown</td>\n",
       "      <td>0.475000</td>\n",
       "      <td>0.775000</td>\n",
       "    </tr>\n",
       "  </tbody>\n",
       "</table>\n",
       "<p>11788 rows × 6 columns</p>\n",
       "</div>"
      ],
      "text/plain": [
       "                  User                                            Content  \\\n",
       "0            AhamadJim  moonsienft flipprtool j777crypto darwinnft don...   \n",
       "1       ahmetaslan_nft              theartistevie thank much xf0x9fx8dx80   \n",
       "2         kriztechnews  coinbasexe2x80x99s nft marketplace logs fewer1...   \n",
       "3        RivaWinifred1  soulznft giveawayssoulz jukiversenft love bart...   \n",
       "4         wawankentuzz  solchiefnft chirucatz findersolnft segonogo hi...   \n",
       "...                ...                                                ...   \n",
       "11783   Keulmaille_NFT  kingofmidtow1 ryantalbot bryanbrinkman offshoo...   \n",
       "11784          JJJSS99  hiraethnft chosen its turn nburix1 gktnft cawanft   \n",
       "11785        raksawinn  hi gm world ndrop nft xtz pls xe2x9cx8cxefxb8x...   \n",
       "11786  DarkbalanceShot  first 5 items new collection uploadednhttpstco...   \n",
       "11787    laketreasuree  aaxexchange hurry 3 days go come visit mooneyx...   \n",
       "\n",
       "               Date & Time                                           Location  \\\n",
       "0      2022-05-07 15:37:17                                            Unknown   \n",
       "1      2022-05-07 15:37:17                              Hatay, T\\xc3\\xbcrkiye   \n",
       "2      2022-05-07 15:37:17                                            Unknown   \n",
       "3      2022-05-07 15:37:16                                            Unknown   \n",
       "4      2022-05-07 15:37:16                                          Indonesia   \n",
       "...                    ...                                                ...   \n",
       "11783  2022-05-07 14:43:47                                    Los Angeles, CA   \n",
       "11784  2022-05-07 14:43:47                                            Unknown   \n",
       "11785  2022-05-07 14:43:46  \\xe0\\xb8\\x9b\\xe0\\xb8\\xa3\\xe0\\xb8\\xb0\\xe0\\xb9\\x...   \n",
       "11786  2022-05-07 14:43:46                              Turkey / \\xc4\\xb0zmir   \n",
       "11787  2022-05-07 14:43:45                                            Unknown   \n",
       "\n",
       "       Polarity  Subjectivity  \n",
       "0      0.000000      0.000000  \n",
       "1      0.200000      0.200000  \n",
       "2      0.000000      0.000000  \n",
       "3      0.500000      0.600000  \n",
       "4      0.800000      0.400000  \n",
       "...         ...           ...  \n",
       "11783  0.000000      0.000000  \n",
       "11784  0.000000      0.000000  \n",
       "11785  0.000000      0.000000  \n",
       "11786  0.193182      0.393939  \n",
       "11787  0.475000      0.775000  \n",
       "\n",
       "[11788 rows x 6 columns]"
      ]
     },
     "execution_count": 53,
     "metadata": {},
     "output_type": "execute_result"
    }
   ],
   "source": [
    "data_text_blob"
   ]
  },
  {
   "cell_type": "markdown",
   "id": "faa329af",
   "metadata": {},
   "source": [
    "<font  color=black> **- Vader** </font>"
   ]
  },
  {
   "cell_type": "code",
   "execution_count": 54,
   "id": "4592c92b",
   "metadata": {},
   "outputs": [],
   "source": [
    "sid_obj= SentimentIntensityAnalyzer()"
   ]
  },
  {
   "cell_type": "code",
   "execution_count": 55,
   "id": "949b99bc",
   "metadata": {},
   "outputs": [],
   "source": [
    "def sentiment_dictionary(text):\n",
    "    sentiment_dict = sid_obj.polarity_scores(text)\n",
    "    print(\"Overall sentiment dictionary is : \", sentiment_dict)\n",
    "    print(\"sentence was rated as \", sentiment_dict['neg']*100, \"% Negative\")\n",
    "    print(\"sentence was rated as \", sentiment_dict['neu']*100, \"% Neutral\")\n",
    "    print(\"sentence was rated as \", sentiment_dict['pos']*100, \"% Positive\")\n",
    "    print(\"Sentence Overall Rated As\", end = \" \")\n",
    "    if sentiment_dict['compound'] >= 0.05 :\n",
    "            print(\"Positive\")\n",
    "    elif sentiment_dict['compound'] <= - 0.05 :\n",
    "        print(\"Negative\")\n",
    "    else :\n",
    "        print(\"Neutral\")"
   ]
  },
  {
   "cell_type": "code",
   "execution_count": 56,
   "id": "5a6aa04a",
   "metadata": {},
   "outputs": [
    {
     "name": "stdout",
     "output_type": "stream",
     "text": [
      "Overall sentiment dictionary is :  {'neg': 0.0, 'neu': 1.0, 'pos': 0.0, 'compound': 0.0}\n",
      "sentence was rated as  0.0 % Negative\n",
      "sentence was rated as  100.0 % Neutral\n",
      "sentence was rated as  0.0 % Positive\n",
      "Sentence Overall Rated As Neutral\n"
     ]
    }
   ],
   "source": [
    "sentiment_dictionary(\"Hello\")"
   ]
  },
  {
   "cell_type": "code",
   "execution_count": 57,
   "id": "f40d07a3",
   "metadata": {},
   "outputs": [
    {
     "name": "stdout",
     "output_type": "stream",
     "text": [
      "Overall sentiment dictionary is :  {'neg': 0.0, 'neu': 0.323, 'pos': 0.677, 'compound': 0.6369}\n",
      "sentence was rated as  0.0 % Negative\n",
      "sentence was rated as  32.300000000000004 % Neutral\n",
      "sentence was rated as  67.7 % Positive\n",
      "Sentence Overall Rated As Positive\n"
     ]
    }
   ],
   "source": [
    "sentiment_dictionary(\"I love this\")"
   ]
  },
  {
   "cell_type": "code",
   "execution_count": 58,
   "id": "97bd548f",
   "metadata": {},
   "outputs": [
    {
     "name": "stdout",
     "output_type": "stream",
     "text": [
      "Overall sentiment dictionary is :  {'neg': 0.636, 'neu': 0.364, 'pos': 0.0, 'compound': -0.5423}\n",
      "sentence was rated as  63.6 % Negative\n",
      "sentence was rated as  36.4 % Neutral\n",
      "sentence was rated as  0.0 % Positive\n",
      "Sentence Overall Rated As Negative\n"
     ]
    }
   ],
   "source": [
    "sentiment_dictionary(\"this is bad\")"
   ]
  },
  {
   "cell_type": "code",
   "execution_count": 59,
   "id": "d17ac3b8",
   "metadata": {},
   "outputs": [],
   "source": [
    "def sentiment_dictionary2(text):\n",
    "    sentiment_dict = sid_obj.polarity_scores(text)\n",
    "    #print(\"Overall sentiment dictionary is : \", sentiment_dict)\n",
    "    #print(\"sentence was rated as \", sentiment_dict['neg']*100, \"% Negative\")\n",
    "    #print(\"sentence was rated as \", sentiment_dict['neu']*100, \"% Neutral\")\n",
    "    #print(\"sentence was rated as \", sentiment_dict['pos']*100, \"% Positive\")\n",
    "    #print(\"Sentence Overall Rated As\", end = \" \")\n",
    "    if sentiment_dict['compound'] >= 0.05 :\n",
    "        return \"Positive\"\n",
    "    elif sentiment_dict['compound'] <= - 0.05 :\n",
    "        return \"Negative\"\n",
    "    else :\n",
    "        return \"Neutral\""
   ]
  },
  {
   "cell_type": "code",
   "execution_count": 60,
   "id": "24c44e87",
   "metadata": {},
   "outputs": [],
   "source": [
    "Sentiment=data[\"Content\"].apply(sentiment_dictionary2)"
   ]
  },
  {
   "cell_type": "code",
   "execution_count": 61,
   "id": "3faff24b",
   "metadata": {},
   "outputs": [],
   "source": [
    "data_vader = data.copy(deep=True)"
   ]
  },
  {
   "cell_type": "code",
   "execution_count": 62,
   "id": "74347275",
   "metadata": {},
   "outputs": [],
   "source": [
    "data_vader.insert(loc=4,\n",
    "          column='Sentiment',\n",
    "          value=Sentiment)"
   ]
  },
  {
   "cell_type": "code",
   "execution_count": 63,
   "id": "85f02466",
   "metadata": {},
   "outputs": [
    {
     "data": {
      "text/html": [
       "<div>\n",
       "<style scoped>\n",
       "    .dataframe tbody tr th:only-of-type {\n",
       "        vertical-align: middle;\n",
       "    }\n",
       "\n",
       "    .dataframe tbody tr th {\n",
       "        vertical-align: top;\n",
       "    }\n",
       "\n",
       "    .dataframe thead th {\n",
       "        text-align: right;\n",
       "    }\n",
       "</style>\n",
       "<table border=\"1\" class=\"dataframe\">\n",
       "  <thead>\n",
       "    <tr style=\"text-align: right;\">\n",
       "      <th></th>\n",
       "      <th>User</th>\n",
       "      <th>Content</th>\n",
       "      <th>Date &amp; Time</th>\n",
       "      <th>Location</th>\n",
       "      <th>Sentiment</th>\n",
       "    </tr>\n",
       "  </thead>\n",
       "  <tbody>\n",
       "    <tr>\n",
       "      <th>0</th>\n",
       "      <td>AhamadJim</td>\n",
       "      <td>moonsienft flipprtool j777crypto darwinnft don...</td>\n",
       "      <td>2022-05-07 15:37:17</td>\n",
       "      <td>Unknown</td>\n",
       "      <td>Positive</td>\n",
       "    </tr>\n",
       "    <tr>\n",
       "      <th>1</th>\n",
       "      <td>ahmetaslan_nft</td>\n",
       "      <td>theartistevie thank much xf0x9fx8dx80</td>\n",
       "      <td>2022-05-07 15:37:17</td>\n",
       "      <td>Hatay, T\\xc3\\xbcrkiye</td>\n",
       "      <td>Positive</td>\n",
       "    </tr>\n",
       "    <tr>\n",
       "      <th>2</th>\n",
       "      <td>kriztechnews</td>\n",
       "      <td>coinbasexe2x80x99s nft marketplace logs fewer1...</td>\n",
       "      <td>2022-05-07 15:37:17</td>\n",
       "      <td>Unknown</td>\n",
       "      <td>Neutral</td>\n",
       "    </tr>\n",
       "    <tr>\n",
       "      <th>3</th>\n",
       "      <td>RivaWinifred1</td>\n",
       "      <td>soulznft giveawayssoulz jukiversenft love bart...</td>\n",
       "      <td>2022-05-07 15:37:16</td>\n",
       "      <td>Unknown</td>\n",
       "      <td>Positive</td>\n",
       "    </tr>\n",
       "    <tr>\n",
       "      <th>4</th>\n",
       "      <td>wawankentuzz</td>\n",
       "      <td>solchiefnft chirucatz findersolnft segonogo hi...</td>\n",
       "      <td>2022-05-07 15:37:16</td>\n",
       "      <td>Indonesia</td>\n",
       "      <td>Positive</td>\n",
       "    </tr>\n",
       "    <tr>\n",
       "      <th>...</th>\n",
       "      <td>...</td>\n",
       "      <td>...</td>\n",
       "      <td>...</td>\n",
       "      <td>...</td>\n",
       "      <td>...</td>\n",
       "    </tr>\n",
       "    <tr>\n",
       "      <th>11783</th>\n",
       "      <td>Keulmaille_NFT</td>\n",
       "      <td>kingofmidtow1 ryantalbot bryanbrinkman offshoo...</td>\n",
       "      <td>2022-05-07 14:43:47</td>\n",
       "      <td>Los Angeles, CA</td>\n",
       "      <td>Neutral</td>\n",
       "    </tr>\n",
       "    <tr>\n",
       "      <th>11784</th>\n",
       "      <td>JJJSS99</td>\n",
       "      <td>hiraethnft chosen its turn nburix1 gktnft cawanft</td>\n",
       "      <td>2022-05-07 14:43:47</td>\n",
       "      <td>Unknown</td>\n",
       "      <td>Neutral</td>\n",
       "    </tr>\n",
       "    <tr>\n",
       "      <th>11785</th>\n",
       "      <td>raksawinn</td>\n",
       "      <td>hi gm world ndrop nft xtz pls xe2x9cx8cxefxb8x...</td>\n",
       "      <td>2022-05-07 14:43:46</td>\n",
       "      <td>\\xe0\\xb8\\x9b\\xe0\\xb8\\xa3\\xe0\\xb8\\xb0\\xe0\\xb9\\x...</td>\n",
       "      <td>Positive</td>\n",
       "    </tr>\n",
       "    <tr>\n",
       "      <th>11786</th>\n",
       "      <td>DarkbalanceShot</td>\n",
       "      <td>first 5 items new collection uploadednhttpstco...</td>\n",
       "      <td>2022-05-07 14:43:46</td>\n",
       "      <td>Turkey / \\xc4\\xb0zmir</td>\n",
       "      <td>Neutral</td>\n",
       "    </tr>\n",
       "    <tr>\n",
       "      <th>11787</th>\n",
       "      <td>laketreasuree</td>\n",
       "      <td>aaxexchange hurry 3 days go come visit mooneyx...</td>\n",
       "      <td>2022-05-07 14:43:45</td>\n",
       "      <td>Unknown</td>\n",
       "      <td>Positive</td>\n",
       "    </tr>\n",
       "  </tbody>\n",
       "</table>\n",
       "<p>11788 rows × 5 columns</p>\n",
       "</div>"
      ],
      "text/plain": [
       "                  User                                            Content  \\\n",
       "0            AhamadJim  moonsienft flipprtool j777crypto darwinnft don...   \n",
       "1       ahmetaslan_nft              theartistevie thank much xf0x9fx8dx80   \n",
       "2         kriztechnews  coinbasexe2x80x99s nft marketplace logs fewer1...   \n",
       "3        RivaWinifred1  soulznft giveawayssoulz jukiversenft love bart...   \n",
       "4         wawankentuzz  solchiefnft chirucatz findersolnft segonogo hi...   \n",
       "...                ...                                                ...   \n",
       "11783   Keulmaille_NFT  kingofmidtow1 ryantalbot bryanbrinkman offshoo...   \n",
       "11784          JJJSS99  hiraethnft chosen its turn nburix1 gktnft cawanft   \n",
       "11785        raksawinn  hi gm world ndrop nft xtz pls xe2x9cx8cxefxb8x...   \n",
       "11786  DarkbalanceShot  first 5 items new collection uploadednhttpstco...   \n",
       "11787    laketreasuree  aaxexchange hurry 3 days go come visit mooneyx...   \n",
       "\n",
       "               Date & Time                                           Location  \\\n",
       "0      2022-05-07 15:37:17                                            Unknown   \n",
       "1      2022-05-07 15:37:17                              Hatay, T\\xc3\\xbcrkiye   \n",
       "2      2022-05-07 15:37:17                                            Unknown   \n",
       "3      2022-05-07 15:37:16                                            Unknown   \n",
       "4      2022-05-07 15:37:16                                          Indonesia   \n",
       "...                    ...                                                ...   \n",
       "11783  2022-05-07 14:43:47                                    Los Angeles, CA   \n",
       "11784  2022-05-07 14:43:47                                            Unknown   \n",
       "11785  2022-05-07 14:43:46  \\xe0\\xb8\\x9b\\xe0\\xb8\\xa3\\xe0\\xb8\\xb0\\xe0\\xb9\\x...   \n",
       "11786  2022-05-07 14:43:46                              Turkey / \\xc4\\xb0zmir   \n",
       "11787  2022-05-07 14:43:45                                            Unknown   \n",
       "\n",
       "      Sentiment  \n",
       "0      Positive  \n",
       "1      Positive  \n",
       "2       Neutral  \n",
       "3      Positive  \n",
       "4      Positive  \n",
       "...         ...  \n",
       "11783   Neutral  \n",
       "11784   Neutral  \n",
       "11785  Positive  \n",
       "11786   Neutral  \n",
       "11787  Positive  \n",
       "\n",
       "[11788 rows x 5 columns]"
      ]
     },
     "execution_count": 63,
     "metadata": {},
     "output_type": "execute_result"
    }
   ],
   "source": [
    "data_vader"
   ]
  },
  {
   "cell_type": "code",
   "execution_count": 64,
   "id": "ae4b0f28",
   "metadata": {},
   "outputs": [
    {
     "data": {
      "text/plain": [
       "[Text(0, 0, 'Negative'), Text(1, 0, 'Positive'), Text(2, 0, 'Neutral')]"
      ]
     },
     "execution_count": 64,
     "metadata": {},
     "output_type": "execute_result"
    },
    {
     "data": {
      "image/png": "[encoded data removed]",
      "text/plain": [
       "<Figure size 432x288 with 1 Axes>"
      ]
     },
     "metadata": {
      "needs_background": "light"
     },
     "output_type": "display_data"
    }
   ],
   "source": [
    "# Plotting the distribution for dataset.\n",
    "ax = data_vader.groupby('Sentiment').count().plot(kind='bar', title='Distribution of data',legend=False)\n",
    "ax.set_xticklabels(['Negative','Positive','Neutral'], rotation=0)\n",
    "# Storing data in lists.\n",
    "#text, sentiment = list(df['text']), list(df['target'])"
   ]
  },
  {
   "cell_type": "code",
   "execution_count": 65,
   "id": "72aacf8f",
   "metadata": {},
   "outputs": [
    {
     "data": {
      "text/plain": [
       "<AxesSubplot:xlabel='Sentiment', ylabel='count'>"
      ]
     },
     "execution_count": 65,
     "metadata": {},
     "output_type": "execute_result"
    },
    {
     "data": {
      "image/png": "[encoded data removed]",
      "text/plain": [
       "<Figure size 432x288 with 1 Axes>"
      ]
     },
     "metadata": {
      "needs_background": "light"
     },
     "output_type": "display_data"
    }
   ],
   "source": [
    "import seaborn as sns\n",
    "sns.countplot(x='Sentiment', data=data_vader)"
   ]
  },
  {
   "cell_type": "code",
   "execution_count": 66,
   "id": "450f5f98",
   "metadata": {},
   "outputs": [
    {
     "data": {
      "text/html": [
       "<div>\n",
       "<style scoped>\n",
       "    .dataframe tbody tr th:only-of-type {\n",
       "        vertical-align: middle;\n",
       "    }\n",
       "\n",
       "    .dataframe tbody tr th {\n",
       "        vertical-align: top;\n",
       "    }\n",
       "\n",
       "    .dataframe thead th {\n",
       "        text-align: right;\n",
       "    }\n",
       "</style>\n",
       "<table border=\"1\" class=\"dataframe\">\n",
       "  <thead>\n",
       "    <tr style=\"text-align: right;\">\n",
       "      <th></th>\n",
       "      <th>User</th>\n",
       "      <th>Content</th>\n",
       "      <th>Date &amp; Time</th>\n",
       "      <th>Location</th>\n",
       "      <th>Sentiment</th>\n",
       "    </tr>\n",
       "  </thead>\n",
       "  <tbody>\n",
       "    <tr>\n",
       "      <th>0</th>\n",
       "      <td>AhamadJim</td>\n",
       "      <td>moonsienft flipprtool j777crypto darwinnft don...</td>\n",
       "      <td>2022-05-07 15:37:17</td>\n",
       "      <td>Unknown</td>\n",
       "      <td>Positive</td>\n",
       "    </tr>\n",
       "    <tr>\n",
       "      <th>1</th>\n",
       "      <td>ahmetaslan_nft</td>\n",
       "      <td>theartistevie thank much xf0x9fx8dx80</td>\n",
       "      <td>2022-05-07 15:37:17</td>\n",
       "      <td>Hatay, T\\xc3\\xbcrkiye</td>\n",
       "      <td>Positive</td>\n",
       "    </tr>\n",
       "    <tr>\n",
       "      <th>3</th>\n",
       "      <td>RivaWinifred1</td>\n",
       "      <td>soulznft giveawayssoulz jukiversenft love bart...</td>\n",
       "      <td>2022-05-07 15:37:16</td>\n",
       "      <td>Unknown</td>\n",
       "      <td>Positive</td>\n",
       "    </tr>\n",
       "    <tr>\n",
       "      <th>4</th>\n",
       "      <td>wawankentuzz</td>\n",
       "      <td>solchiefnft chirucatz findersolnft segonogo hi...</td>\n",
       "      <td>2022-05-07 15:37:16</td>\n",
       "      <td>Indonesia</td>\n",
       "      <td>Positive</td>\n",
       "    </tr>\n",
       "    <tr>\n",
       "      <th>5</th>\n",
       "      <td>SandyTh95358612</td>\n",
       "      <td>youbybff get free bff pfp  read bio returnofzm...</td>\n",
       "      <td>2022-05-07 15:37:16</td>\n",
       "      <td>Unknown</td>\n",
       "      <td>Positive</td>\n",
       "    </tr>\n",
       "    <tr>\n",
       "      <th>...</th>\n",
       "      <td>...</td>\n",
       "      <td>...</td>\n",
       "      <td>...</td>\n",
       "      <td>...</td>\n",
       "      <td>...</td>\n",
       "    </tr>\n",
       "    <tr>\n",
       "      <th>11779</th>\n",
       "      <td>inyang_betty</td>\n",
       "      <td>early guys come check outnsomething huge comin...</td>\n",
       "      <td>2022-05-07 14:43:47</td>\n",
       "      <td>Unknown</td>\n",
       "      <td>Positive</td>\n",
       "    </tr>\n",
       "    <tr>\n",
       "      <th>11781</th>\n",
       "      <td>McphillipsgJ</td>\n",
       "      <td>moonsienft flipprtool j777crypto darwinnft lik...</td>\n",
       "      <td>2022-05-07 14:43:47</td>\n",
       "      <td>Unknown</td>\n",
       "      <td>Positive</td>\n",
       "    </tr>\n",
       "    <tr>\n",
       "      <th>11782</th>\n",
       "      <td>ukyo2022</td>\n",
       "      <td>moonstepapp beautiful project believe come bet...</td>\n",
       "      <td>2022-05-07 14:43:47</td>\n",
       "      <td>Unknown</td>\n",
       "      <td>Positive</td>\n",
       "    </tr>\n",
       "    <tr>\n",
       "      <th>11785</th>\n",
       "      <td>raksawinn</td>\n",
       "      <td>hi gm world ndrop nft xtz pls xe2x9cx8cxefxb8x...</td>\n",
       "      <td>2022-05-07 14:43:46</td>\n",
       "      <td>\\xe0\\xb8\\x9b\\xe0\\xb8\\xa3\\xe0\\xb8\\xb0\\xe0\\xb9\\x...</td>\n",
       "      <td>Positive</td>\n",
       "    </tr>\n",
       "    <tr>\n",
       "      <th>11787</th>\n",
       "      <td>laketreasuree</td>\n",
       "      <td>aaxexchange hurry 3 days go come visit mooneyx...</td>\n",
       "      <td>2022-05-07 14:43:45</td>\n",
       "      <td>Unknown</td>\n",
       "      <td>Positive</td>\n",
       "    </tr>\n",
       "  </tbody>\n",
       "</table>\n",
       "<p>6896 rows × 5 columns</p>\n",
       "</div>"
      ],
      "text/plain": [
       "                  User                                            Content  \\\n",
       "0            AhamadJim  moonsienft flipprtool j777crypto darwinnft don...   \n",
       "1       ahmetaslan_nft              theartistevie thank much xf0x9fx8dx80   \n",
       "3        RivaWinifred1  soulznft giveawayssoulz jukiversenft love bart...   \n",
       "4         wawankentuzz  solchiefnft chirucatz findersolnft segonogo hi...   \n",
       "5      SandyTh95358612  youbybff get free bff pfp  read bio returnofzm...   \n",
       "...                ...                                                ...   \n",
       "11779     inyang_betty  early guys come check outnsomething huge comin...   \n",
       "11781     McphillipsgJ  moonsienft flipprtool j777crypto darwinnft lik...   \n",
       "11782         ukyo2022  moonstepapp beautiful project believe come bet...   \n",
       "11785        raksawinn  hi gm world ndrop nft xtz pls xe2x9cx8cxefxb8x...   \n",
       "11787    laketreasuree  aaxexchange hurry 3 days go come visit mooneyx...   \n",
       "\n",
       "               Date & Time                                           Location  \\\n",
       "0      2022-05-07 15:37:17                                            Unknown   \n",
       "1      2022-05-07 15:37:17                              Hatay, T\\xc3\\xbcrkiye   \n",
       "3      2022-05-07 15:37:16                                            Unknown   \n",
       "4      2022-05-07 15:37:16                                          Indonesia   \n",
       "5      2022-05-07 15:37:16                                            Unknown   \n",
       "...                    ...                                                ...   \n",
       "11779  2022-05-07 14:43:47                                            Unknown   \n",
       "11781  2022-05-07 14:43:47                                            Unknown   \n",
       "11782  2022-05-07 14:43:47                                            Unknown   \n",
       "11785  2022-05-07 14:43:46  \\xe0\\xb8\\x9b\\xe0\\xb8\\xa3\\xe0\\xb8\\xb0\\xe0\\xb9\\x...   \n",
       "11787  2022-05-07 14:43:45                                            Unknown   \n",
       "\n",
       "      Sentiment  \n",
       "0      Positive  \n",
       "1      Positive  \n",
       "3      Positive  \n",
       "4      Positive  \n",
       "5      Positive  \n",
       "...         ...  \n",
       "11779  Positive  \n",
       "11781  Positive  \n",
       "11782  Positive  \n",
       "11785  Positive  \n",
       "11787  Positive  \n",
       "\n",
       "[6896 rows x 5 columns]"
      ]
     },
     "execution_count": 66,
     "metadata": {},
     "output_type": "execute_result"
    }
   ],
   "source": [
    "data_model=data_vader.loc[data_vader['Sentiment'].isin({\"Positive\",\"Negative\"})]\n",
    "data_model"
   ]
  },
  {
   "cell_type": "code",
   "execution_count": 67,
   "id": "b86c1d26",
   "metadata": {},
   "outputs": [
    {
     "name": "stdout",
     "output_type": "stream",
     "text": [
      "<class 'pandas.core.frame.DataFrame'>\n",
      "Int64Index: 6896 entries, 0 to 11787\n",
      "Data columns (total 5 columns):\n",
      " #   Column       Non-Null Count  Dtype \n",
      "---  ------       --------------  ----- \n",
      " 0   User         6896 non-null   object\n",
      " 1   Content      6896 non-null   object\n",
      " 2   Date & Time  6896 non-null   object\n",
      " 3   Location     6896 non-null   object\n",
      " 4   Sentiment    6896 non-null   object\n",
      "dtypes: object(5)\n",
      "memory usage: 323.2+ KB\n"
     ]
    }
   ],
   "source": [
    "data_model.info()"
   ]
  },
  {
   "cell_type": "code",
   "execution_count": 68,
   "id": "d832afda",
   "metadata": {},
   "outputs": [
    {
     "data": {
      "text/plain": [
       "(6896, 5)"
      ]
     },
     "execution_count": 68,
     "metadata": {},
     "output_type": "execute_result"
    }
   ],
   "source": [
    "data_model.shape"
   ]
  },
  {
   "cell_type": "code",
   "execution_count": 69,
   "id": "af90efd1",
   "metadata": {},
   "outputs": [
    {
     "data": {
      "text/plain": [
       "<AxesSubplot:xlabel='Sentiment', ylabel='count'>"
      ]
     },
     "execution_count": 69,
     "metadata": {},
     "output_type": "execute_result"
    },
    {
     "data": {
      "image/png": "[encoded data removed]",
      "text/plain": [
       "<Figure size 432x288 with 1 Axes>"
      ]
     },
     "metadata": {
      "needs_background": "light"
     },
     "output_type": "display_data"
    }
   ],
   "source": [
    "import seaborn as sns\n",
    "sns.countplot(x='Sentiment', data=data_model)"
   ]
  },
  {
   "cell_type": "code",
   "execution_count": 70,
   "id": "db9b963e",
   "metadata": {},
   "outputs": [
    {
     "name": "stderr",
     "output_type": "stream",
     "text": [
      "C:\\anaconda3\\installationanaconda\\lib\\site-packages\\pandas\\core\\indexing.py:1732: SettingWithCopyWarning: \n",
      "A value is trying to be set on a copy of a slice from a DataFrame\n",
      "\n",
      "See the caveats in the documentation: https://pandas.pydata.org/pandas-docs/stable/user_guide/indexing.html#returning-a-view-versus-a-copy\n",
      "  self._setitem_single_block(indexer, value, name)\n",
      "C:\\anaconda3\\installationanaconda\\lib\\site-packages\\pandas\\core\\indexing.py:723: SettingWithCopyWarning: \n",
      "A value is trying to be set on a copy of a slice from a DataFrame\n",
      "\n",
      "See the caveats in the documentation: https://pandas.pydata.org/pandas-docs/stable/user_guide/indexing.html#returning-a-view-versus-a-copy\n",
      "  iloc._setitem_with_indexer(indexer, value, self.name)\n"
     ]
    }
   ],
   "source": [
    "data_model.loc[data_model[\"Sentiment\"] == \"Positive\", \"Sentiment\"] = 1\n",
    "data_model.loc[data_model[\"Sentiment\"] == \"Negative\", \"Sentiment\"] = 0"
   ]
  },
  {
   "cell_type": "code",
   "execution_count": 71,
   "id": "5797b526",
   "metadata": {},
   "outputs": [
    {
     "data": {
      "text/html": [
       "<div>\n",
       "<style scoped>\n",
       "    .dataframe tbody tr th:only-of-type {\n",
       "        vertical-align: middle;\n",
       "    }\n",
       "\n",
       "    .dataframe tbody tr th {\n",
       "        vertical-align: top;\n",
       "    }\n",
       "\n",
       "    .dataframe thead th {\n",
       "        text-align: right;\n",
       "    }\n",
       "</style>\n",
       "<table border=\"1\" class=\"dataframe\">\n",
       "  <thead>\n",
       "    <tr style=\"text-align: right;\">\n",
       "      <th></th>\n",
       "      <th>User</th>\n",
       "      <th>Content</th>\n",
       "      <th>Date &amp; Time</th>\n",
       "      <th>Location</th>\n",
       "      <th>Sentiment</th>\n",
       "    </tr>\n",
       "  </thead>\n",
       "  <tbody>\n",
       "    <tr>\n",
       "      <th>0</th>\n",
       "      <td>AhamadJim</td>\n",
       "      <td>moonsienft flipprtool j777crypto darwinnft don...</td>\n",
       "      <td>2022-05-07 15:37:17</td>\n",
       "      <td>Unknown</td>\n",
       "      <td>1</td>\n",
       "    </tr>\n",
       "    <tr>\n",
       "      <th>1</th>\n",
       "      <td>ahmetaslan_nft</td>\n",
       "      <td>theartistevie thank much xf0x9fx8dx80</td>\n",
       "      <td>2022-05-07 15:37:17</td>\n",
       "      <td>Hatay, T\\xc3\\xbcrkiye</td>\n",
       "      <td>1</td>\n",
       "    </tr>\n",
       "    <tr>\n",
       "      <th>3</th>\n",
       "      <td>RivaWinifred1</td>\n",
       "      <td>soulznft giveawayssoulz jukiversenft love bart...</td>\n",
       "      <td>2022-05-07 15:37:16</td>\n",
       "      <td>Unknown</td>\n",
       "      <td>1</td>\n",
       "    </tr>\n",
       "    <tr>\n",
       "      <th>4</th>\n",
       "      <td>wawankentuzz</td>\n",
       "      <td>solchiefnft chirucatz findersolnft segonogo hi...</td>\n",
       "      <td>2022-05-07 15:37:16</td>\n",
       "      <td>Indonesia</td>\n",
       "      <td>1</td>\n",
       "    </tr>\n",
       "    <tr>\n",
       "      <th>5</th>\n",
       "      <td>SandyTh95358612</td>\n",
       "      <td>youbybff get free bff pfp  read bio returnofzm...</td>\n",
       "      <td>2022-05-07 15:37:16</td>\n",
       "      <td>Unknown</td>\n",
       "      <td>1</td>\n",
       "    </tr>\n",
       "    <tr>\n",
       "      <th>...</th>\n",
       "      <td>...</td>\n",
       "      <td>...</td>\n",
       "      <td>...</td>\n",
       "      <td>...</td>\n",
       "      <td>...</td>\n",
       "    </tr>\n",
       "    <tr>\n",
       "      <th>11779</th>\n",
       "      <td>inyang_betty</td>\n",
       "      <td>early guys come check outnsomething huge comin...</td>\n",
       "      <td>2022-05-07 14:43:47</td>\n",
       "      <td>Unknown</td>\n",
       "      <td>1</td>\n",
       "    </tr>\n",
       "    <tr>\n",
       "      <th>11781</th>\n",
       "      <td>McphillipsgJ</td>\n",
       "      <td>moonsienft flipprtool j777crypto darwinnft lik...</td>\n",
       "      <td>2022-05-07 14:43:47</td>\n",
       "      <td>Unknown</td>\n",
       "      <td>1</td>\n",
       "    </tr>\n",
       "    <tr>\n",
       "      <th>11782</th>\n",
       "      <td>ukyo2022</td>\n",
       "      <td>moonstepapp beautiful project believe come bet...</td>\n",
       "      <td>2022-05-07 14:43:47</td>\n",
       "      <td>Unknown</td>\n",
       "      <td>1</td>\n",
       "    </tr>\n",
       "    <tr>\n",
       "      <th>11785</th>\n",
       "      <td>raksawinn</td>\n",
       "      <td>hi gm world ndrop nft xtz pls xe2x9cx8cxefxb8x...</td>\n",
       "      <td>2022-05-07 14:43:46</td>\n",
       "      <td>\\xe0\\xb8\\x9b\\xe0\\xb8\\xa3\\xe0\\xb8\\xb0\\xe0\\xb9\\x...</td>\n",
       "      <td>1</td>\n",
       "    </tr>\n",
       "    <tr>\n",
       "      <th>11787</th>\n",
       "      <td>laketreasuree</td>\n",
       "      <td>aaxexchange hurry 3 days go come visit mooneyx...</td>\n",
       "      <td>2022-05-07 14:43:45</td>\n",
       "      <td>Unknown</td>\n",
       "      <td>1</td>\n",
       "    </tr>\n",
       "  </tbody>\n",
       "</table>\n",
       "<p>6896 rows × 5 columns</p>\n",
       "</div>"
      ],
      "text/plain": [
       "                  User                                            Content  \\\n",
       "0            AhamadJim  moonsienft flipprtool j777crypto darwinnft don...   \n",
       "1       ahmetaslan_nft              theartistevie thank much xf0x9fx8dx80   \n",
       "3        RivaWinifred1  soulznft giveawayssoulz jukiversenft love bart...   \n",
       "4         wawankentuzz  solchiefnft chirucatz findersolnft segonogo hi...   \n",
       "5      SandyTh95358612  youbybff get free bff pfp  read bio returnofzm...   \n",
       "...                ...                                                ...   \n",
       "11779     inyang_betty  early guys come check outnsomething huge comin...   \n",
       "11781     McphillipsgJ  moonsienft flipprtool j777crypto darwinnft lik...   \n",
       "11782         ukyo2022  moonstepapp beautiful project believe come bet...   \n",
       "11785        raksawinn  hi gm world ndrop nft xtz pls xe2x9cx8cxefxb8x...   \n",
       "11787    laketreasuree  aaxexchange hurry 3 days go come visit mooneyx...   \n",
       "\n",
       "               Date & Time                                           Location  \\\n",
       "0      2022-05-07 15:37:17                                            Unknown   \n",
       "1      2022-05-07 15:37:17                              Hatay, T\\xc3\\xbcrkiye   \n",
       "3      2022-05-07 15:37:16                                            Unknown   \n",
       "4      2022-05-07 15:37:16                                          Indonesia   \n",
       "5      2022-05-07 15:37:16                                            Unknown   \n",
       "...                    ...                                                ...   \n",
       "11779  2022-05-07 14:43:47                                            Unknown   \n",
       "11781  2022-05-07 14:43:47                                            Unknown   \n",
       "11782  2022-05-07 14:43:47                                            Unknown   \n",
       "11785  2022-05-07 14:43:46  \\xe0\\xb8\\x9b\\xe0\\xb8\\xa3\\xe0\\xb8\\xb0\\xe0\\xb9\\x...   \n",
       "11787  2022-05-07 14:43:45                                            Unknown   \n",
       "\n",
       "      Sentiment  \n",
       "0             1  \n",
       "1             1  \n",
       "3             1  \n",
       "4             1  \n",
       "5             1  \n",
       "...         ...  \n",
       "11779         1  \n",
       "11781         1  \n",
       "11782         1  \n",
       "11785         1  \n",
       "11787         1  \n",
       "\n",
       "[6896 rows x 5 columns]"
      ]
     },
     "execution_count": 71,
     "metadata": {},
     "output_type": "execute_result"
    }
   ],
   "source": [
    "data_model"
   ]
  },
  {
   "cell_type": "code",
   "execution_count": 72,
   "id": "ee4d12c7",
   "metadata": {},
   "outputs": [
    {
     "data": {
      "text/plain": [
       "array([1, 0], dtype=object)"
      ]
     },
     "execution_count": 72,
     "metadata": {},
     "output_type": "execute_result"
    }
   ],
   "source": [
    "data_model['Sentiment'].unique()"
   ]
  },
  {
   "cell_type": "code",
   "execution_count": 73,
   "id": "8bcb6996",
   "metadata": {},
   "outputs": [
    {
     "data": {
      "text/plain": [
       "<AxesSubplot:xlabel='Sentiment', ylabel='count'>"
      ]
     },
     "execution_count": 73,
     "metadata": {},
     "output_type": "execute_result"
    },
    {
     "data": {
      "image/png": "[encoded data removed]",
      "text/plain": [
       "<Figure size 432x288 with 1 Axes>"
      ]
     },
     "metadata": {
      "needs_background": "light"
     },
     "output_type": "display_data"
    }
   ],
   "source": [
    "import seaborn as sns\n",
    "sns.countplot(x='Sentiment', data=data_model)"
   ]
  },
  {
   "cell_type": "code",
   "execution_count": 74,
   "id": "e42c9e36",
   "metadata": {},
   "outputs": [
    {
     "name": "stderr",
     "output_type": "stream",
     "text": [
      "C:\\Users\\HOUSSE~1\\AppData\\Local\\Temp/ipykernel_13324/1860237478.py:1: SettingWithCopyWarning: \n",
      "A value is trying to be set on a copy of a slice from a DataFrame.\n",
      "Try using .loc[row_indexer,col_indexer] = value instead\n",
      "\n",
      "See the caveats in the documentation: https://pandas.pydata.org/pandas-docs/stable/user_guide/indexing.html#returning-a-view-versus-a-copy\n",
      "  data_model[\"Sentiment\"]=data_model[\"Sentiment\"].apply(pd.to_numeric)\n"
     ]
    }
   ],
   "source": [
    "data_model[\"Sentiment\"]=data_model[\"Sentiment\"].apply(pd.to_numeric)"
   ]
  },
  {
   "cell_type": "code",
   "execution_count": 75,
   "id": "82204908",
   "metadata": {},
   "outputs": [],
   "source": [
    "X=data_model.Content\n",
    "y=data_model.Sentiment"
   ]
  },
  {
   "cell_type": "code",
   "execution_count": 76,
   "id": "8a4a90cb",
   "metadata": {},
   "outputs": [],
   "source": [
    "\n",
    "#Separating the 95% data for training data and 5% for testing data\n",
    "X_train, X_test, y_train, y_test = train_test_split(X,y,test_size = 0.05, random_state =26105111)"
   ]
  },
  {
   "cell_type": "code",
   "execution_count": 77,
   "id": "60167538",
   "metadata": {},
   "outputs": [
    {
     "name": "stdout",
     "output_type": "stream",
     "text": [
      "No. of feature_words:  61048\n"
     ]
    }
   ],
   "source": [
    "vectoriser = TfidfVectorizer(ngram_range=(1,2), max_features=500000)\n",
    "vectoriser.fit(X_train)\n",
    "print('No. of feature_words: ', len(vectoriser.get_feature_names()))"
   ]
  },
  {
   "cell_type": "code",
   "execution_count": 78,
   "id": "540bd161",
   "metadata": {},
   "outputs": [],
   "source": [
    "X_train = vectoriser.transform(X_train)\n",
    "X_test  = vectoriser.transform(X_test)"
   ]
  },
  {
   "cell_type": "code",
   "execution_count": 79,
   "id": "5a29c76d",
   "metadata": {},
   "outputs": [],
   "source": [
    "def model_Evaluate(model):\n",
    "    # Predict values for Test dataset\n",
    "    y_pred = model.predict(X_test)\n",
    "    # Print the evaluation metrics for the dataset.\n",
    "    print(classification_report(y_test, y_pred))\n",
    "    # Compute and plot the Confusion matrix\n",
    "    cf_matrix = confusion_matrix(y_test, y_pred)\n",
    "    categories = ['Negative','Positive']\n",
    "    group_names = ['True Neg','False Pos', 'False Neg','True Pos']\n",
    "    group_percentages = ['{0:.2%}'.format(value) for value in cf_matrix.flatten() / np.sum(cf_matrix)]\n",
    "    labels = [f'{v1}n{v2}' for v1, v2 in zip(group_names,group_percentages)]\n",
    "    labels = np.asarray(labels).reshape(2,2)\n",
    "    sns.heatmap(cf_matrix, annot = labels, cmap = 'Blues',fmt = '',\n",
    "    xticklabels = categories, yticklabels = categories)\n",
    "    plt.xlabel(\"Predicted values\", fontdict = {'size':14}, labelpad = 10)\n",
    "    plt.ylabel(\"Actual values\" , fontdict = {'size':14}, labelpad = 10)\n",
    "    plt.title (\"Confusion Matrix\", fontdict = {'size':18}, pad = 20)"
   ]
  },
  {
   "cell_type": "code",
   "execution_count": 80,
   "id": "f5ebf03b",
   "metadata": {},
   "outputs": [
    {
     "name": "stdout",
     "output_type": "stream",
     "text": [
      "              precision    recall  f1-score   support\n",
      "\n",
      "           0       1.00      0.07      0.13        44\n",
      "           1       0.88      1.00      0.94       301\n",
      "\n",
      "    accuracy                           0.88       345\n",
      "   macro avg       0.94      0.53      0.53       345\n",
      "weighted avg       0.90      0.88      0.83       345\n",
      "\n"
     ]
    },
    {
     "data": {
      "image/png": "[encoded data removed]",
      "text/plain": [
       "<Figure size 432x288 with 2 Axes>"
      ]
     },
     "metadata": {
      "needs_background": "light"
     },
     "output_type": "display_data"
    }
   ],
   "source": [
    "#Bernoulli Naive Bayes\n",
    "import matplotlib.pyplot as plt\n",
    "BNBmodel = BernoulliNB()\n",
    "BNBmodel.fit(X_train, y_train)\n",
    "model_Evaluate(BNBmodel)\n",
    "y_pred1 = BNBmodel.predict(X_test)"
   ]
  },
  {
   "cell_type": "code",
   "execution_count": 81,
   "id": "3b3bc077",
   "metadata": {},
   "outputs": [
    {
     "data": {
      "image/png": "[encoded data removed]",
      "text/plain": [
       "<Figure size 432x288 with 1 Axes>"
      ]
     },
     "metadata": {
      "needs_background": "light"
     },
     "output_type": "display_data"
    }
   ],
   "source": [
    "fpr, tpr, thresholds = roc_curve(y_test, y_pred1)\n",
    "roc_auc = auc(fpr, tpr)\n",
    "plt.figure()\n",
    "plt.plot(fpr, tpr, color='darkorange', lw=1, label='ROC curve (area = %0.2f)' % roc_auc)\n",
    "plt.xlim([0.0, 1.0])\n",
    "plt.ylim([0.0, 1.05])\n",
    "plt.xlabel('False Positive Rate')\n",
    "plt.ylabel('True Positive Rate')\n",
    "plt.title('ROC CURVE')\n",
    "plt.legend(loc=\"lower right\")\n",
    "plt.show()"
   ]
  },
  {
   "cell_type": "code",
   "execution_count": 82,
   "id": "877de7a3",
   "metadata": {},
   "outputs": [
    {
     "name": "stdout",
     "output_type": "stream",
     "text": [
      "              precision    recall  f1-score   support\n",
      "\n",
      "           0       0.83      0.55      0.66        44\n",
      "           1       0.94      0.98      0.96       301\n",
      "\n",
      "    accuracy                           0.93       345\n",
      "   macro avg       0.88      0.76      0.81       345\n",
      "weighted avg       0.92      0.93      0.92       345\n",
      "\n"
     ]
    },
    {
     "data": {
      "image/png": "[encoded data removed]",
      "text/plain": [
       "<Figure size 432x288 with 2 Axes>"
      ]
     },
     "metadata": {
      "needs_background": "light"
     },
     "output_type": "display_data"
    }
   ],
   "source": [
    "#Linear SVC\n",
    "SVCmodel = LinearSVC()\n",
    "SVCmodel.fit(X_train, y_train)\n",
    "model_Evaluate(SVCmodel)\n",
    "y_pred2 = SVCmodel.predict(X_test)"
   ]
  },
  {
   "cell_type": "code",
   "execution_count": 83,
   "id": "dea1c8ed",
   "metadata": {},
   "outputs": [
    {
     "data": {
      "image/png": "[encoded data removed]",
      "text/plain": [
       "<Figure size 432x288 with 1 Axes>"
      ]
     },
     "metadata": {
      "needs_background": "light"
     },
     "output_type": "display_data"
    }
   ],
   "source": [
    "fpr, tpr, thresholds = roc_curve(y_test, y_pred2)\n",
    "roc_auc = auc(fpr, tpr)\n",
    "plt.figure()\n",
    "plt.plot(fpr, tpr, color='darkorange', lw=1, label='ROC curve (area = %0.2f)' % roc_auc)\n",
    "plt.xlim([0.0, 1.0])\n",
    "plt.ylim([0.0, 1.05])\n",
    "plt.xlabel('False Positive Rate')\n",
    "plt.ylabel('True Positive Rate')\n",
    "plt.title('ROC CURVE')\n",
    "plt.legend(loc=\"lower right\")\n",
    "plt.show()"
   ]
  },
  {
   "cell_type": "code",
   "execution_count": 84,
   "id": "782b9f65",
   "metadata": {},
   "outputs": [
    {
     "name": "stdout",
     "output_type": "stream",
     "text": [
      "              precision    recall  f1-score   support\n",
      "\n",
      "           0       0.88      0.34      0.49        44\n",
      "           1       0.91      0.99      0.95       301\n",
      "\n",
      "    accuracy                           0.91       345\n",
      "   macro avg       0.90      0.67      0.72       345\n",
      "weighted avg       0.91      0.91      0.89       345\n",
      "\n"
     ]
    },
    {
     "data": {
      "image/png": "[encoded data removed]",
      "text/plain": [
       "<Figure size 432x288 with 2 Axes>"
      ]
     },
     "metadata": {
      "needs_background": "light"
     },
     "output_type": "display_data"
    }
   ],
   "source": [
    "#Linear Regression\n",
    "LRmodel = LogisticRegression(C = 2, max_iter = 1000, n_jobs=-1)\n",
    "LRmodel.fit(X_train, y_train)\n",
    "model_Evaluate(LRmodel)\n",
    "y_pred3 = LRmodel.predict(X_test)"
   ]
  },
  {
   "cell_type": "code",
   "execution_count": 85,
   "id": "f9ac2c4e",
   "metadata": {},
   "outputs": [
    {
     "data": {
      "image/png": "[encoded data removed]",
      "text/plain": [
       "<Figure size 432x288 with 1 Axes>"
      ]
     },
     "metadata": {
      "needs_background": "light"
     },
     "output_type": "display_data"
    }
   ],
   "source": [
    "fpr, tpr, thresholds = roc_curve(y_test, y_pred3)\n",
    "roc_auc = auc(fpr, tpr)\n",
    "plt.figure()\n",
    "plt.plot(fpr, tpr, color='darkorange', lw=1, label='ROC curve (area = %0.2f)' % roc_auc)\n",
    "plt.xlim([0.0, 1.0])\n",
    "plt.ylim([0.0, 1.05])\n",
    "plt.xlabel('False Positive Rate')\n",
    "plt.ylabel('True Positive Rate')\n",
    "plt.title('ROC CURVE')\n",
    "plt.legend(loc=\"lower right\")\n",
    "plt.show()"
   ]
  }
 ],
 "metadata": {
  "kernelspec": {
   "display_name": "Python 3 (ipykernel)",
   "language": "python",
   "name": "python3"
  },
  "language_info": {
   "codemirror_mode": {
    "name": "ipython",
    "version": 3
   },
   "file_extension": ".py",
   "mimetype": "text/x-python",
   "name": "python",
   "nbconvert_exporter": "python",
   "pygments_lexer": "ipython3",
   "version": "3.9.7"
  }
 },
 "nbformat": 4,
 "nbformat_minor": 5
}
